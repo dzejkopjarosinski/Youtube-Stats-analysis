{
 "cells": [
  {
   "attachments": {
    "dfb93c42-d76e-4466-85bb-98a4b1d45f1d.png": {
     "image/png": "[encoded data removed]"
    }
   },
   "cell_type": "markdown",
   "id": "15407a5f",
   "metadata": {
    "papermill": {
     "duration": 0.015072,
     "end_time": "2022-08-16T17:21:15.301656",
     "exception": false,
     "start_time": "2022-08-16T17:21:15.286584",
     "status": "completed"
    },
    "tags": []
   },
   "source": [
    "![image.png](attachment:dfb93c42-d76e-4466-85bb-98a4b1d45f1d.png)"
   ]
  },
  {
   "cell_type": "markdown",
   "id": "dde73adb",
   "metadata": {
    "papermill": {
     "duration": 0.012515,
     "end_time": "2022-08-16T17:21:15.327242",
     "exception": false,
     "start_time": "2022-08-16T17:21:15.314727",
     "status": "completed"
    },
    "tags": []
   },
   "source": [
    "# Youtube Statystics - Test\n",
    "**The following test consist of three different tasks** \n",
    "*  Finding what are categorical differences in viewing patterns betweene Germans and Indians \n",
    "*  Finding the ratios between views/likes/dislikes for different countries/categories\n",
    "*  Finding channels that are popular in most countries"
   ]
  },
  {
   "cell_type": "markdown",
   "id": "99391771",
   "metadata": {
    "papermill": {
     "duration": 0.012258,
     "end_time": "2022-08-16T17:21:15.353869",
     "exception": false,
     "start_time": "2022-08-16T17:21:15.341611",
     "status": "completed"
    },
    "tags": []
   },
   "source": [
    "Before we start with  the tasks, we will import the essential packages for Data Science "
   ]
  },
  {
   "cell_type": "code",
   "execution_count": 1,
   "id": "5e7fa16e",
   "metadata": {
    "_cell_guid": "b1076dfc-b9ad-4769-8c92-a6c4dae69d19",
    "_uuid": "8f2839f25d086af736a60e9eeb907d3b93b6e0e5",
    "execution": {
     "iopub.execute_input": "2022-08-16T17:21:15.381631Z",
     "iopub.status.busy": "2022-08-16T17:21:15.381189Z",
     "iopub.status.idle": "2022-08-16T17:21:15.404210Z",
     "shell.execute_reply": "2022-08-16T17:21:15.402502Z"
    },
    "papermill": {
     "duration": 0.041252,
     "end_time": "2022-08-16T17:21:15.407891",
     "exception": false,
     "start_time": "2022-08-16T17:21:15.366639",
     "status": "completed"
    },
    "tags": []
   },
   "outputs": [
    {
     "name": "stdout",
     "output_type": "stream",
     "text": [
      "/kaggle/input/youtube-new/GBvideos.csv\n",
      "/kaggle/input/youtube-new/MXvideos.csv\n",
      "/kaggle/input/youtube-new/KRvideos.csv\n",
      "/kaggle/input/youtube-new/MX_category_id.json\n",
      "/kaggle/input/youtube-new/GB_category_id.json\n",
      "/kaggle/input/youtube-new/US_category_id.json\n",
      "/kaggle/input/youtube-new/IN_category_id.json\n",
      "/kaggle/input/youtube-new/DEvideos.csv\n",
      "/kaggle/input/youtube-new/KR_category_id.json\n",
      "/kaggle/input/youtube-new/RU_category_id.json\n",
      "/kaggle/input/youtube-new/FRvideos.csv\n",
      "/kaggle/input/youtube-new/USvideos.csv\n",
      "/kaggle/input/youtube-new/INvideos.csv\n",
      "/kaggle/input/youtube-new/RUvideos.csv\n",
      "/kaggle/input/youtube-new/CA_category_id.json\n",
      "/kaggle/input/youtube-new/DE_category_id.json\n",
      "/kaggle/input/youtube-new/JP_category_id.json\n",
      "/kaggle/input/youtube-new/JPvideos.csv\n",
      "/kaggle/input/youtube-new/FR_category_id.json\n",
      "/kaggle/input/youtube-new/CAvideos.csv\n"
     ]
    }
   ],
   "source": [
    "# This Python 3 environment comes with many helpful analytics libraries installed\n",
    "# It is defined by the kaggle/python Docker image: https://github.com/kaggle/docker-python\n",
    "# For example, here's several helpful packages to load\n",
    "\n",
    "import numpy as np # linear algebra\n",
    "import pandas as pd # data processing, CSV file I/O (e.g. pd.read_csv)\n",
    "import matplotlib.pyplot as plt \n",
    "\n",
    "# Input data files are available in the read-only \"../input/\" directory\n",
    "# For example, running this (by clicking run or pressing Shift+Enter) will list all files under the input directory\n",
    "\n",
    "import os\n",
    "for dirname, _, filenames in os.walk('/kaggle/input'):\n",
    "    for filename in filenames:\n",
    "        print(os.path.join(dirname, filename))\n",
    "\n",
    "# You can write up to 20GB to the current directory (/kaggle/working/) that gets preserved as output when you create a version using \"Save & Run All\" \n",
    "# You can also write temporary files to /kaggle/temp/, but they won't be saved outside of the current session"
   ]
  },
  {
   "cell_type": "markdown",
   "id": "0ed7b349",
   "metadata": {
    "papermill": {
     "duration": 0.016205,
     "end_time": "2022-08-16T17:21:15.439755",
     "exception": false,
     "start_time": "2022-08-16T17:21:15.423550",
     "status": "completed"
    },
    "tags": []
   },
   "source": [
    " **Task nr1 - What are the categorical differences in viewing patterns between Germans and Indians ?** \n",
    ">  First we have to lad the data, as we are evaluating differences between Germans and Indians we will name first dataframe \"germans\" and second \"indians\".\n",
    " We will also take a look at first rows of both dataframes and their shapes to avoid complications related to structure. For that reason, I we will also extract column   names from the data. \n",
    " "
   ]
  },
  {
   "cell_type": "code",
   "execution_count": 2,
   "id": "7c1632b4",
   "metadata": {
    "execution": {
     "iopub.execute_input": "2022-08-16T17:21:15.474662Z",
     "iopub.status.busy": "2022-08-16T17:21:15.474276Z",
     "iopub.status.idle": "2022-08-16T17:21:19.123232Z",
     "shell.execute_reply": "2022-08-16T17:21:19.122092Z"
    },
    "papermill": {
     "duration": 3.67151,
     "end_time": "2022-08-16T17:21:19.126165",
     "exception": false,
     "start_time": "2022-08-16T17:21:15.454655",
     "status": "completed"
    },
    "tags": []
   },
   "outputs": [
    {
     "name": "stdout",
     "output_type": "stream",
     "text": [
      "Germans - shape: (40840, 16)\n",
      "Indians - shape: (37352, 16)\n"
     ]
    }
   ],
   "source": [
    "# We will load the data from the CSVs into two separate dataframes, get their shape to check the difference in structure\n",
    "germans = pd.read_csv('../input/youtube-new/DEvideos.csv', sep=',')\n",
    "indians = pd.read_csv('../input/youtube-new/INvideos.csv', sep=',')\n",
    "\n",
    "\n",
    "print(f'Germans - shape: {germans.shape}')\n",
    "print(f'Indians - shape: {indians.shape}')\n"
   ]
  },
  {
   "cell_type": "code",
   "execution_count": 3,
   "id": "a3d9bfb1",
   "metadata": {
    "execution": {
     "iopub.execute_input": "2022-08-16T17:21:19.155072Z",
     "iopub.status.busy": "2022-08-16T17:21:19.154477Z",
     "iopub.status.idle": "2022-08-16T17:21:19.183153Z",
     "shell.execute_reply": "2022-08-16T17:21:19.181967Z"
    },
    "papermill": {
     "duration": 0.045336,
     "end_time": "2022-08-16T17:21:19.185541",
     "exception": false,
     "start_time": "2022-08-16T17:21:19.140205",
     "status": "completed"
    },
    "tags": []
   },
   "outputs": [
    {
     "data": {
      "text/html": [
       "<div>\n",
       "<style scoped>\n",
       "    .dataframe tbody tr th:only-of-type {\n",
       "        vertical-align: middle;\n",
       "    }\n",
       "\n",
       "    .dataframe tbody tr th {\n",
       "        vertical-align: top;\n",
       "    }\n",
       "\n",
       "    .dataframe thead th {\n",
       "        text-align: right;\n",
       "    }\n",
       "</style>\n",
       "<table border=\"1\" class=\"dataframe\">\n",
       "  <thead>\n",
       "    <tr style=\"text-align: right;\">\n",
       "      <th></th>\n",
       "      <th>video_id</th>\n",
       "      <th>trending_date</th>\n",
       "      <th>title</th>\n",
       "      <th>channel_title</th>\n",
       "      <th>category_id</th>\n",
       "      <th>publish_time</th>\n",
       "      <th>tags</th>\n",
       "      <th>views</th>\n",
       "      <th>likes</th>\n",
       "      <th>dislikes</th>\n",
       "      <th>comment_count</th>\n",
       "      <th>thumbnail_link</th>\n",
       "      <th>comments_disabled</th>\n",
       "      <th>ratings_disabled</th>\n",
       "      <th>video_error_or_removed</th>\n",
       "      <th>description</th>\n",
       "    </tr>\n",
       "  </thead>\n",
       "  <tbody>\n",
       "    <tr>\n",
       "      <th>0</th>\n",
       "      <td>LgVi6y5QIjM</td>\n",
       "      <td>17.14.11</td>\n",
       "      <td>Sing zu Ende! | Gesangseinlagen vom Feinsten |...</td>\n",
       "      <td>inscope21</td>\n",
       "      <td>24</td>\n",
       "      <td>2017-11-13T17:08:49.000Z</td>\n",
       "      <td>inscope21|\"sing zu ende\"|\"gesangseinlagen\"|\"ge...</td>\n",
       "      <td>252786</td>\n",
       "      <td>35885</td>\n",
       "      <td>230</td>\n",
       "      <td>1539</td>\n",
       "      <td>https://i.ytimg.com/vi/LgVi6y5QIjM/default.jpg</td>\n",
       "      <td>False</td>\n",
       "      <td>False</td>\n",
       "      <td>False</td>\n",
       "      <td>Heute gibt es mal wieder ein neues Format... w...</td>\n",
       "    </tr>\n",
       "    <tr>\n",
       "      <th>1</th>\n",
       "      <td>Bayt7uQith4</td>\n",
       "      <td>17.14.11</td>\n",
       "      <td>Kinder ferngesteuert im Kiosk! Erwachsene abzo...</td>\n",
       "      <td>LUKE! Die Woche und ich</td>\n",
       "      <td>23</td>\n",
       "      <td>2017-11-12T22:30:01.000Z</td>\n",
       "      <td>Kinder|\"ferngesteuert\"|\"Kinder ferngesteuert\"|...</td>\n",
       "      <td>797196</td>\n",
       "      <td>53576</td>\n",
       "      <td>302</td>\n",
       "      <td>1278</td>\n",
       "      <td>https://i.ytimg.com/vi/Bayt7uQith4/default.jpg</td>\n",
       "      <td>False</td>\n",
       "      <td>False</td>\n",
       "      <td>False</td>\n",
       "      <td>Kinder ferngesteuert! Kinder lassen sich sooo ...</td>\n",
       "    </tr>\n",
       "    <tr>\n",
       "      <th>2</th>\n",
       "      <td>1ZAPwfrtAFY</td>\n",
       "      <td>17.14.11</td>\n",
       "      <td>The Trump Presidency: Last Week Tonight with J...</td>\n",
       "      <td>LastWeekTonight</td>\n",
       "      <td>24</td>\n",
       "      <td>2017-11-13T07:30:00.000Z</td>\n",
       "      <td>last week tonight trump presidency|\"last week ...</td>\n",
       "      <td>2418783</td>\n",
       "      <td>97190</td>\n",
       "      <td>6146</td>\n",
       "      <td>12703</td>\n",
       "      <td>https://i.ytimg.com/vi/1ZAPwfrtAFY/default.jpg</td>\n",
       "      <td>False</td>\n",
       "      <td>False</td>\n",
       "      <td>False</td>\n",
       "      <td>One year after the presidential election, John...</td>\n",
       "    </tr>\n",
       "    <tr>\n",
       "      <th>3</th>\n",
       "      <td>AHtypnRk7JE</td>\n",
       "      <td>17.14.11</td>\n",
       "      <td>Das Fermi-Paradoxon</td>\n",
       "      <td>100SekundenPhysik</td>\n",
       "      <td>27</td>\n",
       "      <td>2017-11-12T15:00:01.000Z</td>\n",
       "      <td>Physik|\"Wissenschaft\"|\"Technik\"|\"Science-Ficti...</td>\n",
       "      <td>380247</td>\n",
       "      <td>31821</td>\n",
       "      <td>458</td>\n",
       "      <td>1955</td>\n",
       "      <td>https://i.ytimg.com/vi/AHtypnRk7JE/default.jpg</td>\n",
       "      <td>False</td>\n",
       "      <td>False</td>\n",
       "      <td>False</td>\n",
       "      <td>►Alle Videos: http://bit.ly/1fa7Tw3\\n\\n\\n✚Snap...</td>\n",
       "    </tr>\n",
       "    <tr>\n",
       "      <th>4</th>\n",
       "      <td>ZJ9We4bjcg0</td>\n",
       "      <td>17.14.11</td>\n",
       "      <td>18 SONGS mit Kelly MissesVlog (Sing-off)</td>\n",
       "      <td>rezo</td>\n",
       "      <td>24</td>\n",
       "      <td>2017-11-12T13:10:36.000Z</td>\n",
       "      <td>kelly|\"missesvlog\"|\"kelly song\"|\"bausa\"|\"bausa...</td>\n",
       "      <td>822213</td>\n",
       "      <td>100684</td>\n",
       "      <td>2467</td>\n",
       "      <td>10244</td>\n",
       "      <td>https://i.ytimg.com/vi/ZJ9We4bjcg0/default.jpg</td>\n",
       "      <td>False</td>\n",
       "      <td>False</td>\n",
       "      <td>False</td>\n",
       "      <td>18 Song Mashup über den (veränderten) Beat von...</td>\n",
       "    </tr>\n",
       "  </tbody>\n",
       "</table>\n",
       "</div>"
      ],
      "text/plain": [
       "      video_id trending_date  \\\n",
       "0  LgVi6y5QIjM      17.14.11   \n",
       "1  Bayt7uQith4      17.14.11   \n",
       "2  1ZAPwfrtAFY      17.14.11   \n",
       "3  AHtypnRk7JE      17.14.11   \n",
       "4  ZJ9We4bjcg0      17.14.11   \n",
       "\n",
       "                                               title            channel_title  \\\n",
       "0  Sing zu Ende! | Gesangseinlagen vom Feinsten |...                inscope21   \n",
       "1  Kinder ferngesteuert im Kiosk! Erwachsene abzo...  LUKE! Die Woche und ich   \n",
       "2  The Trump Presidency: Last Week Tonight with J...          LastWeekTonight   \n",
       "3                                Das Fermi-Paradoxon        100SekundenPhysik   \n",
       "4           18 SONGS mit Kelly MissesVlog (Sing-off)                     rezo   \n",
       "\n",
       "   category_id              publish_time  \\\n",
       "0           24  2017-11-13T17:08:49.000Z   \n",
       "1           23  2017-11-12T22:30:01.000Z   \n",
       "2           24  2017-11-13T07:30:00.000Z   \n",
       "3           27  2017-11-12T15:00:01.000Z   \n",
       "4           24  2017-11-12T13:10:36.000Z   \n",
       "\n",
       "                                                tags    views   likes  \\\n",
       "0  inscope21|\"sing zu ende\"|\"gesangseinlagen\"|\"ge...   252786   35885   \n",
       "1  Kinder|\"ferngesteuert\"|\"Kinder ferngesteuert\"|...   797196   53576   \n",
       "2  last week tonight trump presidency|\"last week ...  2418783   97190   \n",
       "3  Physik|\"Wissenschaft\"|\"Technik\"|\"Science-Ficti...   380247   31821   \n",
       "4  kelly|\"missesvlog\"|\"kelly song\"|\"bausa\"|\"bausa...   822213  100684   \n",
       "\n",
       "   dislikes  comment_count                                  thumbnail_link  \\\n",
       "0       230           1539  https://i.ytimg.com/vi/LgVi6y5QIjM/default.jpg   \n",
       "1       302           1278  https://i.ytimg.com/vi/Bayt7uQith4/default.jpg   \n",
       "2      6146          12703  https://i.ytimg.com/vi/1ZAPwfrtAFY/default.jpg   \n",
       "3       458           1955  https://i.ytimg.com/vi/AHtypnRk7JE/default.jpg   \n",
       "4      2467          10244  https://i.ytimg.com/vi/ZJ9We4bjcg0/default.jpg   \n",
       "\n",
       "   comments_disabled  ratings_disabled  video_error_or_removed  \\\n",
       "0              False             False                   False   \n",
       "1              False             False                   False   \n",
       "2              False             False                   False   \n",
       "3              False             False                   False   \n",
       "4              False             False                   False   \n",
       "\n",
       "                                         description  \n",
       "0  Heute gibt es mal wieder ein neues Format... w...  \n",
       "1  Kinder ferngesteuert! Kinder lassen sich sooo ...  \n",
       "2  One year after the presidential election, John...  \n",
       "3  ►Alle Videos: http://bit.ly/1fa7Tw3\\n\\n\\n✚Snap...  \n",
       "4  18 Song Mashup über den (veränderten) Beat von...  "
      ]
     },
     "execution_count": 3,
     "metadata": {},
     "output_type": "execute_result"
    }
   ],
   "source": [
    "germans.head()"
   ]
  },
  {
   "cell_type": "code",
   "execution_count": 4,
   "id": "4963545c",
   "metadata": {
    "execution": {
     "iopub.execute_input": "2022-08-16T17:21:19.218219Z",
     "iopub.status.busy": "2022-08-16T17:21:19.217702Z",
     "iopub.status.idle": "2022-08-16T17:21:19.224450Z",
     "shell.execute_reply": "2022-08-16T17:21:19.223236Z"
    },
    "papermill": {
     "duration": 0.026745,
     "end_time": "2022-08-16T17:21:19.227083",
     "exception": false,
     "start_time": "2022-08-16T17:21:19.200338",
     "status": "completed"
    },
    "tags": []
   },
   "outputs": [
    {
     "name": "stdout",
     "output_type": "stream",
     "text": [
      "Germans - columns: Index(['video_id', 'trending_date', 'title', 'channel_title', 'category_id',\n",
      "       'publish_time', 'tags', 'views', 'likes', 'dislikes', 'comment_count',\n",
      "       'thumbnail_link', 'comments_disabled', 'ratings_disabled',\n",
      "       'video_error_or_removed', 'description'],\n",
      "      dtype='object')\n",
      "\n",
      "Indians - columns: Index(['video_id', 'trending_date', 'title', 'channel_title', 'category_id',\n",
      "       'publish_time', 'tags', 'views', 'likes', 'dislikes', 'comment_count',\n",
      "       'thumbnail_link', 'comments_disabled', 'ratings_disabled',\n",
      "       'video_error_or_removed', 'description'],\n",
      "      dtype='object')\n"
     ]
    }
   ],
   "source": [
    "# We will also look if the columns are the same for both dataframes\n",
    "print(f'Germans - columns: {germans.columns}')\n",
    "print('')\n",
    "print(f'Indians - columns: {indians.columns}')\n",
    "\n",
    "#germans_columns = germans.columns.to_list\n",
    "#indians_columns = indians.columns.to_list\n",
    "   "
   ]
  },
  {
   "cell_type": "markdown",
   "id": "920dee8a",
   "metadata": {
    "papermill": {
     "duration": 0.013953,
     "end_time": "2022-08-16T17:21:19.256026",
     "exception": false,
     "start_time": "2022-08-16T17:21:19.242073",
     "status": "completed"
    },
    "tags": []
   },
   "source": [
    "So far we know that there is a difference in shapes of both dataframe ***Germans - shape: (40840, 16) and Indians - shape: (37352, 16)*** Therefore we know that both dataframes have 16 columns but the germans have 3,5k records (that is videos) more than indians. We know hovewer that the structure of both dataframes is very simillar and that the column names are the same in both of them. \n",
    "\n",
    "As my task is to get insights about viewing patterns, the only thing I will focus on is analyzing the parts of our data frames directly correlated to those patterns (columns: trending_date, views, likes, dislikes, comment_count)"
   ]
  },
  {
   "cell_type": "code",
   "execution_count": 5,
   "id": "bd4bf2fe",
   "metadata": {
    "execution": {
     "iopub.execute_input": "2022-08-16T17:21:19.287748Z",
     "iopub.status.busy": "2022-08-16T17:21:19.286616Z",
     "iopub.status.idle": "2022-08-16T17:21:19.303515Z",
     "shell.execute_reply": "2022-08-16T17:21:19.302526Z"
    },
    "papermill": {
     "duration": 0.034766,
     "end_time": "2022-08-16T17:21:19.305630",
     "exception": false,
     "start_time": "2022-08-16T17:21:19.270864",
     "status": "completed"
    },
    "tags": []
   },
   "outputs": [
    {
     "data": {
      "text/plain": [
       "views            603455.318438\n",
       "comment_count      2785.856513\n",
       "likes             21875.502889\n",
       "dislikes           1397.135921\n",
       "dtype: float64"
      ]
     },
     "execution_count": 5,
     "metadata": {},
     "output_type": "execute_result"
    }
   ],
   "source": [
    "# First we will examine the germans average number of likes and comments under video to know how strongly they are engaging with video we will also create and compare ratios of those engagemenst\n",
    "germans[['views','comment_count','likes','dislikes']].mean()\n"
   ]
  },
  {
   "cell_type": "code",
   "execution_count": 6,
   "id": "1ad3e54e",
   "metadata": {
    "execution": {
     "iopub.execute_input": "2022-08-16T17:21:19.337472Z",
     "iopub.status.busy": "2022-08-16T17:21:19.336853Z",
     "iopub.status.idle": "2022-08-16T17:21:19.581145Z",
     "shell.execute_reply": "2022-08-16T17:21:19.580289Z"
    },
    "papermill": {
     "duration": 0.262374,
     "end_time": "2022-08-16T17:21:19.583373",
     "exception": false,
     "start_time": "2022-08-16T17:21:19.320999",
     "status": "completed"
    },
    "tags": []
   },
   "outputs": [
    {
     "data": {
      "text/plain": [
       "Text(0.5, 1.0, 'Social Stats by numbers')"
      ]
     },
     "execution_count": 6,
     "metadata": {},
     "output_type": "execute_result"
    },
    {
     "data": {
      "image/png": "[encoded data removed]",
      "text/plain": [
       "<Figure size 720x576 with 1 Axes>"
      ]
     },
     "metadata": {
      "needs_background": "light"
     },
     "output_type": "display_data"
    }
   ],
   "source": [
    "plt.figure(figsize = (10,8))\n",
    "plt.plot(germans[['views','comment_count','likes','dislikes']].mean())\n",
    "plt.ylabel('Count', fontsize=14)\n",
    "plt.xlabel('Social Stats', fontsize =14)\n",
    "plt.title(\"Social Stats by numbers\", fontsize=16)"
   ]
  },
  {
   "cell_type": "code",
   "execution_count": 7,
   "id": "5ecdda5e",
   "metadata": {
    "execution": {
     "iopub.execute_input": "2022-08-16T17:21:19.614429Z",
     "iopub.status.busy": "2022-08-16T17:21:19.613292Z",
     "iopub.status.idle": "2022-08-16T17:21:19.626237Z",
     "shell.execute_reply": "2022-08-16T17:21:19.625356Z"
    },
    "papermill": {
     "duration": 0.030304,
     "end_time": "2022-08-16T17:21:19.628338",
     "exception": false,
     "start_time": "2022-08-16T17:21:19.598034",
     "status": "completed"
    },
    "tags": []
   },
   "outputs": [
    {
     "data": {
      "text/plain": [
       "4.318214543318868"
      ]
     },
     "execution_count": 7,
     "metadata": {},
     "output_type": "execute_result"
    }
   ],
   "source": [
    "#We will find average engagement ratio for germany by comeparing average numbner of interactions to average number of views\n",
    "germans_avg_interactions = sum(germans[['comment_count','likes','dislikes']].mean())\n",
    "germans_avg_views = germans['views'].mean()\n",
    "\n",
    "germans_engagement_ratio = (germans_avg_interactions/germans_avg_views) * 100\n",
    "\n",
    "germans_engagement_ratio\n"
   ]
  },
  {
   "cell_type": "code",
   "execution_count": 8,
   "id": "908a3f3d",
   "metadata": {
    "execution": {
     "iopub.execute_input": "2022-08-16T17:21:19.658439Z",
     "iopub.status.busy": "2022-08-16T17:21:19.657378Z",
     "iopub.status.idle": "2022-08-16T17:21:19.667224Z",
     "shell.execute_reply": "2022-08-16T17:21:19.666478Z"
    },
    "papermill": {
     "duration": 0.026665,
     "end_time": "2022-08-16T17:21:19.669148",
     "exception": false,
     "start_time": "2022-08-16T17:21:19.642483",
     "status": "completed"
    },
    "tags": []
   },
   "outputs": [
    {
     "data": {
      "text/plain": [
       "views           1060477.645882\n",
       "comment_count      2676.997430\n",
       "likes             27082.717659\n",
       "dislikes           1665.081977\n",
       "dtype: float64"
      ]
     },
     "execution_count": 8,
     "metadata": {},
     "output_type": "execute_result"
    }
   ],
   "source": [
    "#And we will also do the same for indians\n",
    "pd.set_option('display.float_format', lambda x: '%.6f' % x)\n",
    "indians[['views','comment_count','likes','dislikes']].mean()\n",
    "\n"
   ]
  },
  {
   "cell_type": "code",
   "execution_count": 9,
   "id": "a741f3c9",
   "metadata": {
    "execution": {
     "iopub.execute_input": "2022-08-16T17:21:19.700479Z",
     "iopub.status.busy": "2022-08-16T17:21:19.699789Z",
     "iopub.status.idle": "2022-08-16T17:21:19.911573Z",
     "shell.execute_reply": "2022-08-16T17:21:19.910592Z"
    },
    "papermill": {
     "duration": 0.230573,
     "end_time": "2022-08-16T17:21:19.914131",
     "exception": false,
     "start_time": "2022-08-16T17:21:19.683558",
     "status": "completed"
    },
    "tags": []
   },
   "outputs": [
    {
     "data": {
      "text/plain": [
       "Text(0.5, 1.0, 'Social Stats by numbers')"
      ]
     },
     "execution_count": 9,
     "metadata": {},
     "output_type": "execute_result"
    },
    {
     "data": {
      "image/png": "[encoded data removed]",
      "text/plain": [
       "<Figure size 720x576 with 1 Axes>"
      ]
     },
     "metadata": {
      "needs_background": "light"
     },
     "output_type": "display_data"
    }
   ],
   "source": [
    "plt.figure(figsize = (10,8))\n",
    "plt.plot(['views','comment_count','likes','dislikes'],indians[['views','comment_count','likes','dislikes']].mean())\n",
    "plt.ylim(bottom=0, top=1200000)\n",
    "plt.ylabel('Count', fontsize=14)\n",
    "plt.xlabel('Social Stats', fontsize =14)\n",
    "plt.title(\"Social Stats by numbers\", fontsize=16)\n"
   ]
  },
  {
   "cell_type": "code",
   "execution_count": 10,
   "id": "3422fbcd",
   "metadata": {
    "execution": {
     "iopub.execute_input": "2022-08-16T17:21:19.948934Z",
     "iopub.status.busy": "2022-08-16T17:21:19.948569Z",
     "iopub.status.idle": "2022-08-16T17:21:19.958631Z",
     "shell.execute_reply": "2022-08-16T17:21:19.957684Z"
    },
    "papermill": {
     "duration": 0.030021,
     "end_time": "2022-08-16T17:21:19.960775",
     "exception": false,
     "start_time": "2022-08-16T17:21:19.930754",
     "status": "completed"
    },
    "tags": []
   },
   "outputs": [
    {
     "data": {
      "text/plain": [
       "2.9632682204823357"
      ]
     },
     "execution_count": 10,
     "metadata": {},
     "output_type": "execute_result"
    }
   ],
   "source": [
    "indians_avg_interactions = sum(indians[['comment_count','likes','dislikes']].mean())\n",
    "indians_avg_views = indians['views'].mean()\n",
    "\n",
    "indians_engagement_ratio = (indians_avg_interactions/indians_avg_views) * 100\n",
    "\n",
    "indians_engagement_ratio"
   ]
  },
  {
   "cell_type": "code",
   "execution_count": 11,
   "id": "b6076b84",
   "metadata": {
    "execution": {
     "iopub.execute_input": "2022-08-16T17:21:19.993000Z",
     "iopub.status.busy": "2022-08-16T17:21:19.991800Z",
     "iopub.status.idle": "2022-08-16T17:21:19.998874Z",
     "shell.execute_reply": "2022-08-16T17:21:19.997346Z"
    },
    "papermill": {
     "duration": 0.025987,
     "end_time": "2022-08-16T17:21:20.001661",
     "exception": false,
     "start_time": "2022-08-16T17:21:19.975674",
     "status": "completed"
    },
    "tags": []
   },
   "outputs": [
    {
     "name": "stdout",
     "output_type": "stream",
     "text": [
      "1.4572472763251874\n"
     ]
    }
   ],
   "source": [
    "#Now let's compare average engagement ratio for both countries\n",
    "print(f'{germans_engagement_ratio/indians_engagement_ratio}')"
   ]
  },
  {
   "cell_type": "markdown",
   "id": "0bd74bcb",
   "metadata": {
    "papermill": {
     "duration": 0.014736,
     "end_time": "2022-08-16T17:21:20.031993",
     "exception": false,
     "start_time": "2022-08-16T17:21:20.017257",
     "status": "completed"
    },
    "tags": []
   },
   "source": [
    " Above analysis shows us, that engagement ratio for germans is equal to **4.31%** and for indians around **2.96%**. Therefore on average **german videos recieve 46% more engagement than indian videos .** \n",
    " \n",
    "Now we will explore if there is a difference, when those videos are trending."
   ]
  },
  {
   "cell_type": "code",
   "execution_count": 12,
   "id": "343d40e4",
   "metadata": {
    "execution": {
     "iopub.execute_input": "2022-08-16T17:21:20.063786Z",
     "iopub.status.busy": "2022-08-16T17:21:20.062639Z",
     "iopub.status.idle": "2022-08-16T17:21:20.148749Z",
     "shell.execute_reply": "2022-08-16T17:21:20.147531Z"
    },
    "papermill": {
     "duration": 0.10434,
     "end_time": "2022-08-16T17:21:20.151202",
     "exception": false,
     "start_time": "2022-08-16T17:21:20.046862",
     "status": "completed"
    },
    "tags": []
   },
   "outputs": [
    {
     "data": {
      "text/html": [
       "<div>\n",
       "<style scoped>\n",
       "    .dataframe tbody tr th:only-of-type {\n",
       "        vertical-align: middle;\n",
       "    }\n",
       "\n",
       "    .dataframe tbody tr th {\n",
       "        vertical-align: top;\n",
       "    }\n",
       "\n",
       "    .dataframe thead th {\n",
       "        text-align: right;\n",
       "    }\n",
       "</style>\n",
       "<table border=\"1\" class=\"dataframe\">\n",
       "  <thead>\n",
       "    <tr style=\"text-align: right;\">\n",
       "      <th></th>\n",
       "      <th>video_id</th>\n",
       "      <th>trending_date</th>\n",
       "      <th>title</th>\n",
       "      <th>channel_title</th>\n",
       "      <th>category_id</th>\n",
       "      <th>publish_time</th>\n",
       "      <th>tags</th>\n",
       "      <th>views</th>\n",
       "      <th>likes</th>\n",
       "      <th>dislikes</th>\n",
       "      <th>comment_count</th>\n",
       "      <th>thumbnail_link</th>\n",
       "      <th>comments_disabled</th>\n",
       "      <th>ratings_disabled</th>\n",
       "      <th>video_error_or_removed</th>\n",
       "      <th>description</th>\n",
       "    </tr>\n",
       "  </thead>\n",
       "  <tbody>\n",
       "    <tr>\n",
       "      <th>3256</th>\n",
       "      <td>6ZfuNTqbHE8</td>\n",
       "      <td>17.01.12</td>\n",
       "      <td>Marvel Studios' Avengers: Infinity War Officia...</td>\n",
       "      <td>Marvel Entertainment</td>\n",
       "      <td>24</td>\n",
       "      <td>2017-11-29T13:26:24.000Z</td>\n",
       "      <td>marvel|\"comics\"|\"comic books\"|\"nerdy\"|\"geeky\"|...</td>\n",
       "      <td>56367282</td>\n",
       "      <td>2157733</td>\n",
       "      <td>34077</td>\n",
       "      <td>303178</td>\n",
       "      <td>https://i.ytimg.com/vi/6ZfuNTqbHE8/default.jpg</td>\n",
       "      <td>False</td>\n",
       "      <td>False</td>\n",
       "      <td>False</td>\n",
       "      <td>There was an idea… Avengers: Infinity War. In ...</td>\n",
       "    </tr>\n",
       "    <tr>\n",
       "      <th>3384</th>\n",
       "      <td>8Lvskj12y7k</td>\n",
       "      <td>17.01.12</td>\n",
       "      <td>வள்ளி | VALLI | Sun TV | Tamil Serial | Episod...</td>\n",
       "      <td>Saregama TVShows</td>\n",
       "      <td>24</td>\n",
       "      <td>2017-11-29T17:30:01.000Z</td>\n",
       "      <td>Valli|\"Vidhya\"|\"Ramji\"|\"indraja\"|\"Paulraj\"|\"Ra...</td>\n",
       "      <td>163212</td>\n",
       "      <td>773</td>\n",
       "      <td>118</td>\n",
       "      <td>109</td>\n",
       "      <td>https://i.ytimg.com/vi/8Lvskj12y7k/default.jpg</td>\n",
       "      <td>False</td>\n",
       "      <td>False</td>\n",
       "      <td>False</td>\n",
       "      <td>VALLI - WATCH TODAY EPISODE ::\\n\\nயார் இந்த பி...</td>\n",
       "    </tr>\n",
       "    <tr>\n",
       "      <th>3385</th>\n",
       "      <td>MM6d97DKOiw</td>\n",
       "      <td>17.01.12</td>\n",
       "      <td>Anbuchezhiyan is neither good nor bad : SV Sek...</td>\n",
       "      <td>IndiaGlitz Tamil Movies | Interviews | Shootin...</td>\n",
       "      <td>24</td>\n",
       "      <td>2017-11-29T10:00:37.000Z</td>\n",
       "      <td>tamil movie|\"tamil comedy\"|\"kollywood\"|\"tamil ...</td>\n",
       "      <td>64873</td>\n",
       "      <td>627</td>\n",
       "      <td>158</td>\n",
       "      <td>203</td>\n",
       "      <td>https://i.ytimg.com/vi/MM6d97DKOiw/default.jpg</td>\n",
       "      <td>False</td>\n",
       "      <td>False</td>\n",
       "      <td>False</td>\n",
       "      <td>Actor, playwright SV Sekhar talks about produc...</td>\n",
       "    </tr>\n",
       "    <tr>\n",
       "      <th>3386</th>\n",
       "      <td>CtSZLqdO-y4</td>\n",
       "      <td>17.01.12</td>\n",
       "      <td>A Boss Fight at the Consumer Financial Protect...</td>\n",
       "      <td>The Daily Show with Trevor Noah</td>\n",
       "      <td>23</td>\n",
       "      <td>2017-11-30T04:30:00.000Z</td>\n",
       "      <td>the daily show|\"trevor noah\"|\"daily show with ...</td>\n",
       "      <td>777875</td>\n",
       "      <td>13242</td>\n",
       "      <td>267</td>\n",
       "      <td>1102</td>\n",
       "      <td>https://i.ytimg.com/vi/CtSZLqdO-y4/default.jpg</td>\n",
       "      <td>False</td>\n",
       "      <td>False</td>\n",
       "      <td>False</td>\n",
       "      <td>Mick Mulvaney is appointed director of the Con...</td>\n",
       "    </tr>\n",
       "    <tr>\n",
       "      <th>3387</th>\n",
       "      <td>1vmhLprZYBg</td>\n",
       "      <td>17.01.12</td>\n",
       "      <td>Arsenal vs Huddersfield 5-0 All Goals &amp; Highli...</td>\n",
       "      <td>Wrsh98</td>\n",
       "      <td>17</td>\n",
       "      <td>2017-11-29T22:32:58.000Z</td>\n",
       "      <td>Arsenal vs Huddersfield 5-0 All Goals &amp; Highli...</td>\n",
       "      <td>831373</td>\n",
       "      <td>2157</td>\n",
       "      <td>505</td>\n",
       "      <td>225</td>\n",
       "      <td>https://i.ytimg.com/vi/1vmhLprZYBg/default.jpg</td>\n",
       "      <td>False</td>\n",
       "      <td>False</td>\n",
       "      <td>False</td>\n",
       "      <td>Hit LIKE and SUBSCRIBE\\nThank you for watching...</td>\n",
       "    </tr>\n",
       "    <tr>\n",
       "      <th>...</th>\n",
       "      <td>...</td>\n",
       "      <td>...</td>\n",
       "      <td>...</td>\n",
       "      <td>...</td>\n",
       "      <td>...</td>\n",
       "      <td>...</td>\n",
       "      <td>...</td>\n",
       "      <td>...</td>\n",
       "      <td>...</td>\n",
       "      <td>...</td>\n",
       "      <td>...</td>\n",
       "      <td>...</td>\n",
       "      <td>...</td>\n",
       "      <td>...</td>\n",
       "      <td>...</td>\n",
       "      <td>...</td>\n",
       "    </tr>\n",
       "    <tr>\n",
       "      <th>34779</th>\n",
       "      <td>In53LeOFVuM</td>\n",
       "      <td>18.31.05</td>\n",
       "      <td>Lok Sabha Bypoll Result: BJP ahead of Shiv Sen...</td>\n",
       "      <td>Zee News</td>\n",
       "      <td>25</td>\n",
       "      <td>2018-05-31T08:43:06.000Z</td>\n",
       "      <td>Zee News|\"zeenews\"|\"znews\"|\"latest news\"|\"dail...</td>\n",
       "      <td>369445</td>\n",
       "      <td>858</td>\n",
       "      <td>263</td>\n",
       "      <td>396</td>\n",
       "      <td>https://i.ytimg.com/vi/In53LeOFVuM/default.jpg</td>\n",
       "      <td>False</td>\n",
       "      <td>False</td>\n",
       "      <td>False</td>\n",
       "      <td>Lok Sabha Bypoll Result: BJP ahead of Shiv Sen...</td>\n",
       "    </tr>\n",
       "    <tr>\n",
       "      <th>34778</th>\n",
       "      <td>nT96UHb74Ys</td>\n",
       "      <td>18.31.05</td>\n",
       "      <td>Taarak Mehta Ka Ooltah Chashmah - तारक मेहता -...</td>\n",
       "      <td>Sony PAL</td>\n",
       "      <td>24</td>\n",
       "      <td>2018-05-29T19:28:45.000Z</td>\n",
       "      <td>TV serials|\"Anjali\"|\"Tarak\"|\"babita\"|\"bhide\"|\"...</td>\n",
       "      <td>192745</td>\n",
       "      <td>497</td>\n",
       "      <td>131</td>\n",
       "      <td>35</td>\n",
       "      <td>https://i.ytimg.com/vi/nT96UHb74Ys/default.jpg</td>\n",
       "      <td>False</td>\n",
       "      <td>False</td>\n",
       "      <td>False</td>\n",
       "      <td>Click here to watch the full episode of Taarak...</td>\n",
       "    </tr>\n",
       "    <tr>\n",
       "      <th>34777</th>\n",
       "      <td>DjVdzb5sryI</td>\n",
       "      <td>18.31.05</td>\n",
       "      <td>Telangana Formation Day 2018 Special Song | By...</td>\n",
       "      <td>TeluguOne</td>\n",
       "      <td>10</td>\n",
       "      <td>2018-05-31T11:01:07.000Z</td>\n",
       "      <td>telangana formation day songs|\"2018\"|\"telangan...</td>\n",
       "      <td>106210</td>\n",
       "      <td>1957</td>\n",
       "      <td>126</td>\n",
       "      <td>152</td>\n",
       "      <td>https://i.ytimg.com/vi/DjVdzb5sryI/default.jpg</td>\n",
       "      <td>False</td>\n",
       "      <td>False</td>\n",
       "      <td>False</td>\n",
       "      <td>Watch Telangana Formation Day Special Song Sun...</td>\n",
       "    </tr>\n",
       "    <tr>\n",
       "      <th>34775</th>\n",
       "      <td>gyJsjJ0GXzM</td>\n",
       "      <td>18.31.05</td>\n",
       "      <td>News Fuse 30 May 2018 | ବିଜେଡିକୁ ବଳଦ ଧୋକା ଦେଲା...</td>\n",
       "      <td>OTV</td>\n",
       "      <td>25</td>\n",
       "      <td>2018-05-30T17:06:56.000Z</td>\n",
       "      <td>otv|\"otv news\"|\"odisha news\"|\"odisha latest ne...</td>\n",
       "      <td>146275</td>\n",
       "      <td>1506</td>\n",
       "      <td>188</td>\n",
       "      <td>333</td>\n",
       "      <td>https://i.ytimg.com/vi/gyJsjJ0GXzM/default.jpg</td>\n",
       "      <td>False</td>\n",
       "      <td>False</td>\n",
       "      <td>False</td>\n",
       "      <td>The highest rated show among all Odia news tel...</td>\n",
       "    </tr>\n",
       "    <tr>\n",
       "      <th>34722</th>\n",
       "      <td>MZO8IgL2mN4</td>\n",
       "      <td>18.31.05</td>\n",
       "      <td>Result Prank | Fun Panrom | Black Sheep</td>\n",
       "      <td>Black Sheep</td>\n",
       "      <td>24</td>\n",
       "      <td>2018-05-29T15:01:34.000Z</td>\n",
       "      <td>kaalaofficial|\"thalamashup\"|\"ajithkumar\"|\"thal...</td>\n",
       "      <td>469165</td>\n",
       "      <td>22818</td>\n",
       "      <td>340</td>\n",
       "      <td>2667</td>\n",
       "      <td>https://i.ytimg.com/vi/MZO8IgL2mN4/default.jpg</td>\n",
       "      <td>False</td>\n",
       "      <td>False</td>\n",
       "      <td>False</td>\n",
       "      <td>To Book Tickets for Navayuga Rathakanneer :htt...</td>\n",
       "    </tr>\n",
       "  </tbody>\n",
       "</table>\n",
       "<p>37352 rows × 16 columns</p>\n",
       "</div>"
      ],
      "text/plain": [
       "          video_id trending_date  \\\n",
       "3256   6ZfuNTqbHE8      17.01.12   \n",
       "3384   8Lvskj12y7k      17.01.12   \n",
       "3385   MM6d97DKOiw      17.01.12   \n",
       "3386   CtSZLqdO-y4      17.01.12   \n",
       "3387   1vmhLprZYBg      17.01.12   \n",
       "...            ...           ...   \n",
       "34779  In53LeOFVuM      18.31.05   \n",
       "34778  nT96UHb74Ys      18.31.05   \n",
       "34777  DjVdzb5sryI      18.31.05   \n",
       "34775  gyJsjJ0GXzM      18.31.05   \n",
       "34722  MZO8IgL2mN4      18.31.05   \n",
       "\n",
       "                                                   title  \\\n",
       "3256   Marvel Studios' Avengers: Infinity War Officia...   \n",
       "3384   வள்ளி | VALLI | Sun TV | Tamil Serial | Episod...   \n",
       "3385   Anbuchezhiyan is neither good nor bad : SV Sek...   \n",
       "3386   A Boss Fight at the Consumer Financial Protect...   \n",
       "3387   Arsenal vs Huddersfield 5-0 All Goals & Highli...   \n",
       "...                                                  ...   \n",
       "34779  Lok Sabha Bypoll Result: BJP ahead of Shiv Sen...   \n",
       "34778  Taarak Mehta Ka Ooltah Chashmah - तारक मेहता -...   \n",
       "34777  Telangana Formation Day 2018 Special Song | By...   \n",
       "34775  News Fuse 30 May 2018 | ବିଜେଡିକୁ ବଳଦ ଧୋକା ଦେଲା...   \n",
       "34722            Result Prank | Fun Panrom | Black Sheep   \n",
       "\n",
       "                                           channel_title  category_id  \\\n",
       "3256                                Marvel Entertainment           24   \n",
       "3384                                    Saregama TVShows           24   \n",
       "3385   IndiaGlitz Tamil Movies | Interviews | Shootin...           24   \n",
       "3386                     The Daily Show with Trevor Noah           23   \n",
       "3387                                              Wrsh98           17   \n",
       "...                                                  ...          ...   \n",
       "34779                                           Zee News           25   \n",
       "34778                                           Sony PAL           24   \n",
       "34777                                          TeluguOne           10   \n",
       "34775                                                OTV           25   \n",
       "34722                                        Black Sheep           24   \n",
       "\n",
       "                   publish_time  \\\n",
       "3256   2017-11-29T13:26:24.000Z   \n",
       "3384   2017-11-29T17:30:01.000Z   \n",
       "3385   2017-11-29T10:00:37.000Z   \n",
       "3386   2017-11-30T04:30:00.000Z   \n",
       "3387   2017-11-29T22:32:58.000Z   \n",
       "...                         ...   \n",
       "34779  2018-05-31T08:43:06.000Z   \n",
       "34778  2018-05-29T19:28:45.000Z   \n",
       "34777  2018-05-31T11:01:07.000Z   \n",
       "34775  2018-05-30T17:06:56.000Z   \n",
       "34722  2018-05-29T15:01:34.000Z   \n",
       "\n",
       "                                                    tags     views    likes  \\\n",
       "3256   marvel|\"comics\"|\"comic books\"|\"nerdy\"|\"geeky\"|...  56367282  2157733   \n",
       "3384   Valli|\"Vidhya\"|\"Ramji\"|\"indraja\"|\"Paulraj\"|\"Ra...    163212      773   \n",
       "3385   tamil movie|\"tamil comedy\"|\"kollywood\"|\"tamil ...     64873      627   \n",
       "3386   the daily show|\"trevor noah\"|\"daily show with ...    777875    13242   \n",
       "3387   Arsenal vs Huddersfield 5-0 All Goals & Highli...    831373     2157   \n",
       "...                                                  ...       ...      ...   \n",
       "34779  Zee News|\"zeenews\"|\"znews\"|\"latest news\"|\"dail...    369445      858   \n",
       "34778  TV serials|\"Anjali\"|\"Tarak\"|\"babita\"|\"bhide\"|\"...    192745      497   \n",
       "34777  telangana formation day songs|\"2018\"|\"telangan...    106210     1957   \n",
       "34775  otv|\"otv news\"|\"odisha news\"|\"odisha latest ne...    146275     1506   \n",
       "34722  kaalaofficial|\"thalamashup\"|\"ajithkumar\"|\"thal...    469165    22818   \n",
       "\n",
       "       dislikes  comment_count  \\\n",
       "3256      34077         303178   \n",
       "3384        118            109   \n",
       "3385        158            203   \n",
       "3386        267           1102   \n",
       "3387        505            225   \n",
       "...         ...            ...   \n",
       "34779       263            396   \n",
       "34778       131             35   \n",
       "34777       126            152   \n",
       "34775       188            333   \n",
       "34722       340           2667   \n",
       "\n",
       "                                       thumbnail_link  comments_disabled  \\\n",
       "3256   https://i.ytimg.com/vi/6ZfuNTqbHE8/default.jpg              False   \n",
       "3384   https://i.ytimg.com/vi/8Lvskj12y7k/default.jpg              False   \n",
       "3385   https://i.ytimg.com/vi/MM6d97DKOiw/default.jpg              False   \n",
       "3386   https://i.ytimg.com/vi/CtSZLqdO-y4/default.jpg              False   \n",
       "3387   https://i.ytimg.com/vi/1vmhLprZYBg/default.jpg              False   \n",
       "...                                               ...                ...   \n",
       "34779  https://i.ytimg.com/vi/In53LeOFVuM/default.jpg              False   \n",
       "34778  https://i.ytimg.com/vi/nT96UHb74Ys/default.jpg              False   \n",
       "34777  https://i.ytimg.com/vi/DjVdzb5sryI/default.jpg              False   \n",
       "34775  https://i.ytimg.com/vi/gyJsjJ0GXzM/default.jpg              False   \n",
       "34722  https://i.ytimg.com/vi/MZO8IgL2mN4/default.jpg              False   \n",
       "\n",
       "       ratings_disabled  video_error_or_removed  \\\n",
       "3256              False                   False   \n",
       "3384              False                   False   \n",
       "3385              False                   False   \n",
       "3386              False                   False   \n",
       "3387              False                   False   \n",
       "...                 ...                     ...   \n",
       "34779             False                   False   \n",
       "34778             False                   False   \n",
       "34777             False                   False   \n",
       "34775             False                   False   \n",
       "34722             False                   False   \n",
       "\n",
       "                                             description  \n",
       "3256   There was an idea… Avengers: Infinity War. In ...  \n",
       "3384   VALLI - WATCH TODAY EPISODE ::\\n\\nயார் இந்த பி...  \n",
       "3385   Actor, playwright SV Sekhar talks about produc...  \n",
       "3386   Mick Mulvaney is appointed director of the Con...  \n",
       "3387   Hit LIKE and SUBSCRIBE\\nThank you for watching...  \n",
       "...                                                  ...  \n",
       "34779  Lok Sabha Bypoll Result: BJP ahead of Shiv Sen...  \n",
       "34778  Click here to watch the full episode of Taarak...  \n",
       "34777  Watch Telangana Formation Day Special Song Sun...  \n",
       "34775  The highest rated show among all Odia news tel...  \n",
       "34722  To Book Tickets for Navayuga Rathakanneer :htt...  \n",
       "\n",
       "[37352 rows x 16 columns]"
      ]
     },
     "execution_count": 12,
     "metadata": {},
     "output_type": "execute_result"
    }
   ],
   "source": [
    "# We are going to sort values in the datasets by trending_date column to detect if videos in our dataframes were trending in the same time\n",
    "germans = germans.sort_values(by=\"trending_date\")\n",
    "indians = indians.sort_values(by=\"trending_date\")\n",
    "\n",
    "indians"
   ]
  },
  {
   "cell_type": "markdown",
   "id": "d44e3384",
   "metadata": {
    "papermill": {
     "duration": 0.015076,
     "end_time": "2022-08-16T17:21:20.182475",
     "exception": false,
     "start_time": "2022-08-16T17:21:20.167399",
     "status": "completed"
    },
    "tags": []
   },
   "source": [
    "After sorting the dataframes we have to check if both dataframes have the time horizon of measurment. "
   ]
  },
  {
   "cell_type": "code",
   "execution_count": 13,
   "id": "47dc55f5",
   "metadata": {
    "execution": {
     "iopub.execute_input": "2022-08-16T17:21:20.215227Z",
     "iopub.status.busy": "2022-08-16T17:21:20.214873Z",
     "iopub.status.idle": "2022-08-16T17:21:20.223903Z",
     "shell.execute_reply": "2022-08-16T17:21:20.223008Z"
    },
    "papermill": {
     "duration": 0.028008,
     "end_time": "2022-08-16T17:21:20.225910",
     "exception": false,
     "start_time": "2022-08-16T17:21:20.197902",
     "status": "completed"
    },
    "tags": []
   },
   "outputs": [
    {
     "name": "stdout",
     "output_type": "stream",
     "text": [
      "Indians\n",
      "3256    17.01.12\n",
      "Name: trending_date, dtype: object\n",
      "34722    18.31.05\n",
      "Name: trending_date, dtype: object\n",
      "<---------------->\n",
      "Germans\n",
      "3399    17.01.12\n",
      "Name: trending_date, dtype: object\n",
      "38031    18.31.05\n",
      "Name: trending_date, dtype: object\n"
     ]
    }
   ],
   "source": [
    "# We will chceck if germans and indians dataframes start on the same date \n",
    "print('Indians')\n",
    "print(indians['trending_date'].head(1))\n",
    "print(indians['trending_date'].tail(1))\n",
    "print('<---------------->')\n",
    "print('Germans')\n",
    "print(germans['trending_date'].head(1))\n",
    "print(germans['trending_date'].tail(1))"
   ]
  },
  {
   "cell_type": "code",
   "execution_count": 14,
   "id": "4d42c2eb",
   "metadata": {
    "execution": {
     "iopub.execute_input": "2022-08-16T17:21:20.259892Z",
     "iopub.status.busy": "2022-08-16T17:21:20.259307Z",
     "iopub.status.idle": "2022-08-16T17:23:26.669791Z",
     "shell.execute_reply": "2022-08-16T17:23:26.668659Z"
    },
    "papermill": {
     "duration": 126.4464,
     "end_time": "2022-08-16T17:23:26.688757",
     "exception": false,
     "start_time": "2022-08-16T17:21:20.242357",
     "status": "completed"
    },
    "tags": []
   },
   "outputs": [
    {
     "data": {
      "image/png": "[encoded data removed]",
      "text/plain": [
       "<Figure size 1440x720 with 1 Axes>"
      ]
     },
     "metadata": {
      "needs_background": "light"
     },
     "output_type": "display_data"
    }
   ],
   "source": [
    "import matplotlib.dates as mdates\n",
    "\n",
    "plt.figure(figsize=(20,10))\n",
    "plt.bar(germans['trending_date'],germans['views'], label='german')\n",
    "plt.bar(indians['trending_date'], indians['views'], label='indian', color='orange', alpha=0.75)\n",
    "\n",
    "\n",
    "\n",
    "plt.ylabel('Views', fontsize=14)\n",
    "plt.xlabel('Date', fontsize =14)\n",
    "plt.title(\"Trending Time of Vidos\", fontsize=16)\n",
    "\n",
    "plt.show()"
   ]
  },
  {
   "cell_type": "markdown",
   "id": "7d84702f",
   "metadata": {
    "papermill": {
     "duration": 0.015556,
     "end_time": "2022-08-16T17:23:26.720149",
     "exception": false,
     "start_time": "2022-08-16T17:23:26.704593",
     "status": "completed"
    },
    "tags": []
   },
   "source": [
    "**As we can see, the periods overlay each other, however for greater examination we will examine views for trading data on separate plots**"
   ]
  },
  {
   "cell_type": "code",
   "execution_count": 15,
   "id": "223398ad",
   "metadata": {
    "execution": {
     "iopub.execute_input": "2022-08-16T17:23:26.754083Z",
     "iopub.status.busy": "2022-08-16T17:23:26.753726Z",
     "iopub.status.idle": "2022-08-16T17:23:27.454551Z",
     "shell.execute_reply": "2022-08-16T17:23:27.453795Z"
    },
    "papermill": {
     "duration": 0.721031,
     "end_time": "2022-08-16T17:23:27.456512",
     "exception": false,
     "start_time": "2022-08-16T17:23:26.735481",
     "status": "completed"
    },
    "tags": []
   },
   "outputs": [
    {
     "data": {
      "text/plain": [
       "[Text(0.5, 1.0, 'Trending times of Videos - India'),\n",
       " Text(0, 0.5, 'Views in millions'),\n",
       " Text(0.5, 0, 'Date')]"
      ]
     },
     "execution_count": 15,
     "metadata": {},
     "output_type": "execute_result"
    },
    {
     "data": {
      "image/png": "[encoded data removed]",
      "text/plain": [
       "<Figure size 1440x720 with 1 Axes>"
      ]
     },
     "metadata": {
      "needs_background": "light"
     },
     "output_type": "display_data"
    },
    {
     "data": {
      "image/png": "[encoded data removed]",
      "text/plain": [
       "<Figure size 1440x720 with 1 Axes>"
      ]
     },
     "metadata": {
      "needs_background": "light"
     },
     "output_type": "display_data"
    }
   ],
   "source": [
    "ax1 = germans.plot(y='views', x='trending_date', figsize = (20,10))\n",
    "ax1.set(title='Trending times of Videos - Germany',ylabel = 'Views in millions', xlabel = 'Date')\n",
    "\n",
    "ax2 = indians.plot(y='views', x='trending_date', figsize = (20,10), color='orange')\n",
    "ax2.set(title='Trending times of Videos - India', ylabel = 'Views in millions', xlabel = 'Date')\n"
   ]
  },
  {
   "cell_type": "markdown",
   "id": "cca2e577",
   "metadata": {
    "papermill": {
     "duration": 0.017629,
     "end_time": "2022-08-16T17:23:27.491874",
     "exception": false,
     "start_time": "2022-08-16T17:23:27.474245",
     "status": "completed"
    },
    "tags": []
   },
   "source": [
    "**As we can see, videos weren't trending exactly in the same time for all the time. In individual dates Germany as well as India registered sudden jumps in their view count. The first two quaters of 2017 recodred maximum view counts for individual dates for both countries.**"
   ]
  },
  {
   "cell_type": "markdown",
   "id": "b1de6349",
   "metadata": {
    "papermill": {
     "duration": 0.017812,
     "end_time": "2022-08-16T17:23:27.527731",
     "exception": false,
     "start_time": "2022-08-16T17:23:27.509919",
     "status": "completed"
    },
    "tags": []
   },
   "source": [
    "**We will also check the amount of views for a different measures of the view structure to see precisely the difference between those two countries**."
   ]
  },
  {
   "cell_type": "code",
   "execution_count": 16,
   "id": "1b143240",
   "metadata": {
    "execution": {
     "iopub.execute_input": "2022-08-16T17:23:27.565179Z",
     "iopub.status.busy": "2022-08-16T17:23:27.564611Z",
     "iopub.status.idle": "2022-08-16T17:23:27.589436Z",
     "shell.execute_reply": "2022-08-16T17:23:27.588239Z"
    },
    "papermill": {
     "duration": 0.046186,
     "end_time": "2022-08-16T17:23:27.591713",
     "exception": false,
     "start_time": "2022-08-16T17:23:27.545527",
     "status": "completed"
    },
    "tags": []
   },
   "outputs": [
    {
     "name": "stdout",
     "output_type": "stream",
     "text": [
      "Germans:\n",
      "Germans max views : 113876217\n",
      "Germans min views : 518\n",
      "Germans cumulative views : 24645115205\n",
      "Germans average views : 603455.3184378061\n",
      "Germans median views : 119277.0\n",
      "\n",
      "Indians: \n",
      "Indians max views : 125432237\n",
      "Indians min views : 4024\n",
      "Indians cumulative views : 39610961029\n",
      "Indians average views : 1060477.645882416\n",
      "Indians median views : 304586.0\n",
      "\n",
      "Differences: \n",
      "Difference max views : 11556020\n",
      "Difference min views : 3506\n",
      "Difference cumulative views : 14965845824 | in percentage 62.217917881257165%\n",
      "Difference average views : 457022.32744460995 | in percentage 56.90410550197643%\n",
      "Difference median views : 185309.0 | in percentage 39.160368500193705%\n",
      "\n",
      "Germans obtained 91.0% of indians max views \n",
      "Germans obtained 13.0% of indians min views \n",
      "Germans obtained 62.0% of indians cummulative views \n",
      "Germans obtained 60.0% of indians mean views \n",
      "Germans obtained 39.0% of indians median views \n"
     ]
    }
   ],
   "source": [
    "print(\"Germans:\")\n",
    "\n",
    "print(f\"Germans max views : {germans['views'].max()}\")\n",
    "print(f\"Germans min views : {germans['views'].min()}\")\n",
    "print(f\"Germans cumulative views : {germans['views'].sum()}\")\n",
    "print(f\"Germans average views : {germans['views'].mean()}\")\n",
    "print(f\"Germans median views : {germans['views'].median()}\")\n",
    "\n",
    "print(\"\")\n",
    "print(\"Indians: \")\n",
    "\n",
    "print(f\"Indians max views : {indians['views'].max()}\")\n",
    "print(f\"Indians min views : {indians['views'].min()}\")\n",
    "print(f\"Indians cumulative views : {indians['views'].sum()}\")\n",
    "print(f\"Indians average views : {indians['views'].mean()}\")\n",
    "print(f\"Indians median views : {indians['views'].median()}\")\n",
    "\n",
    "\n",
    "#We will also print differences \n",
    "print(\"\")\n",
    "print(\"Differences: \")\n",
    "\n",
    "print(f\"Difference max views : {indians['views'].max() - germans['views'].max()}\")\n",
    "print(f\"Difference min views : {indians['views'].min() - germans['views'].min()}\")\n",
    "print(f\"Difference cumulative views : {indians['views'].sum() - germans['views'].sum()} | in percentage {(germans['views'].sum() / indians['views'].sum()) *100}%\")\n",
    "print(f\"Difference average views : {indians['views'].mean() - germans['views'].mean()} | in percentage {(germans['views'].mean() / indians['views'].mean()) *100}%\")\n",
    "print(f\"Difference median views : {indians['views'].median() - germans['views'].median()} | in percentage {(germans['views'].median() / indians['views'].median()) *100}%\")\n",
    "\n",
    "#We will also print percentages for germans\n",
    "\n",
    "print(\"\")\n",
    "\n",
    "print(f\"Germans obtained {round((germans['views'].max() / indians['views'].max()),2) *100}% of indians max views \")\n",
    "print(f\"Germans obtained {round((germans['views'].min() / indians['views'].min()),2) *100}% of indians min views \")\n",
    "print(f\"Germans obtained {round((germans['views'].sum() / indians['views'].sum()),2) *100}% of indians cummulative views \")\n",
    "print(f\"Germans obtained {round((germans['views'].mean() / indians['views'].mean()),1) *100}% of indians mean views \")\n",
    "print(f\"Germans obtained {round((germans['views'].median() / indians['views'].median()),2) *100}% of indians median views \")"
   ]
  },
  {
   "cell_type": "markdown",
   "id": "38f874a2",
   "metadata": {
    "papermill": {
     "duration": 0.017675,
     "end_time": "2022-08-16T17:23:27.627709",
     "exception": false,
     "start_time": "2022-08-16T17:23:27.610034",
     "status": "completed"
    },
    "tags": []
   },
   "source": [
    "The statystics shows that there is significant difference between conuntry's most and worst performing videos. Indians best performing video has 11556020 more views than German best performing video, Indians also have 3,5k more views under their worst performing video. There is almost **15 billion views** difference in cummulative number of views for both countries. Indians also have higher number of average views and the median view count for them is larger by almost 20k.\n",
    "\n",
    "Those statistics are not suprising though. According to [worldometers.io](https://www.worldometers.info/)\n",
    ", India is the country with 1.4 billion people while germany has 84 million people. The average age for an indian is 29 years old while in germany the average age is 45 years old. Younger genereations have a tendency to adopt to new technologies (including mobile) that are the main trafic driving sources for social media platforms in todays world ([research.com](http://https://research.com/software/mobile-vs-desktop-usage)).   \n",
    "\n",
    "Neverthless, germany's audience is stronger in sense as they are able to obtain almost 40% of indians median views and 60% of their mean views, even though india has 15 times more people than germany. "
   ]
  },
  {
   "cell_type": "markdown",
   "id": "13843f77",
   "metadata": {
    "papermill": {
     "duration": 0.017555,
     "end_time": "2022-08-16T17:23:27.663228",
     "exception": false,
     "start_time": "2022-08-16T17:23:27.645673",
     "status": "completed"
    },
    "tags": []
   },
   "source": [
    "We can also examine how those statistics look in different percentiles. **Below table also show us standard deviation** (mesurment of diference from average value), we can see that its a little bit higher for germans"
   ]
  },
  {
   "cell_type": "code",
   "execution_count": 17,
   "id": "d2a248f5",
   "metadata": {
    "execution": {
     "iopub.execute_input": "2022-08-16T17:23:27.700923Z",
     "iopub.status.busy": "2022-08-16T17:23:27.699995Z",
     "iopub.status.idle": "2022-08-16T17:23:27.730001Z",
     "shell.execute_reply": "2022-08-16T17:23:27.729297Z"
    },
    "papermill": {
     "duration": 0.050655,
     "end_time": "2022-08-16T17:23:27.731763",
     "exception": false,
     "start_time": "2022-08-16T17:23:27.681108",
     "status": "completed"
    },
    "tags": []
   },
   "outputs": [
    {
     "data": {
      "text/html": [
       "<div>\n",
       "<style scoped>\n",
       "    .dataframe tbody tr th:only-of-type {\n",
       "        vertical-align: middle;\n",
       "    }\n",
       "\n",
       "    .dataframe tbody tr th {\n",
       "        vertical-align: top;\n",
       "    }\n",
       "\n",
       "    .dataframe thead th {\n",
       "        text-align: right;\n",
       "    }\n",
       "</style>\n",
       "<table border=\"1\" class=\"dataframe\">\n",
       "  <thead>\n",
       "    <tr style=\"text-align: right;\">\n",
       "      <th></th>\n",
       "      <th>category_id</th>\n",
       "      <th>views</th>\n",
       "      <th>likes</th>\n",
       "      <th>dislikes</th>\n",
       "      <th>comment_count</th>\n",
       "    </tr>\n",
       "  </thead>\n",
       "  <tbody>\n",
       "    <tr>\n",
       "      <th>count</th>\n",
       "      <td>40840.000000</td>\n",
       "      <td>40840.000000</td>\n",
       "      <td>40840.000000</td>\n",
       "      <td>40840.000000</td>\n",
       "      <td>40840.000000</td>\n",
       "    </tr>\n",
       "    <tr>\n",
       "      <th>mean</th>\n",
       "      <td>20.705828</td>\n",
       "      <td>603455.318438</td>\n",
       "      <td>21875.502889</td>\n",
       "      <td>1397.135921</td>\n",
       "      <td>2785.856513</td>\n",
       "    </tr>\n",
       "    <tr>\n",
       "      <th>std</th>\n",
       "      <td>6.975813</td>\n",
       "      <td>2348962.768206</td>\n",
       "      <td>101799.997726</td>\n",
       "      <td>14577.383851</td>\n",
       "      <td>17458.033257</td>\n",
       "    </tr>\n",
       "    <tr>\n",
       "      <th>min</th>\n",
       "      <td>1.000000</td>\n",
       "      <td>518.000000</td>\n",
       "      <td>0.000000</td>\n",
       "      <td>0.000000</td>\n",
       "      <td>0.000000</td>\n",
       "    </tr>\n",
       "    <tr>\n",
       "      <th>25%</th>\n",
       "      <td>20.000000</td>\n",
       "      <td>27068.750000</td>\n",
       "      <td>533.000000</td>\n",
       "      <td>29.000000</td>\n",
       "      <td>79.000000</td>\n",
       "    </tr>\n",
       "    <tr>\n",
       "      <th>50%</th>\n",
       "      <td>24.000000</td>\n",
       "      <td>119277.000000</td>\n",
       "      <td>2699.000000</td>\n",
       "      <td>134.000000</td>\n",
       "      <td>376.000000</td>\n",
       "    </tr>\n",
       "    <tr>\n",
       "      <th>75%</th>\n",
       "      <td>24.000000</td>\n",
       "      <td>443101.500000</td>\n",
       "      <td>11796.250000</td>\n",
       "      <td>532.000000</td>\n",
       "      <td>1376.000000</td>\n",
       "    </tr>\n",
       "    <tr>\n",
       "      <th>max</th>\n",
       "      <td>44.000000</td>\n",
       "      <td>113876217.000000</td>\n",
       "      <td>4924056.000000</td>\n",
       "      <td>1470386.000000</td>\n",
       "      <td>1084435.000000</td>\n",
       "    </tr>\n",
       "  </tbody>\n",
       "</table>\n",
       "</div>"
      ],
      "text/plain": [
       "       category_id            views          likes       dislikes  \\\n",
       "count 40840.000000     40840.000000   40840.000000   40840.000000   \n",
       "mean     20.705828    603455.318438   21875.502889    1397.135921   \n",
       "std       6.975813   2348962.768206  101799.997726   14577.383851   \n",
       "min       1.000000       518.000000       0.000000       0.000000   \n",
       "25%      20.000000     27068.750000     533.000000      29.000000   \n",
       "50%      24.000000    119277.000000    2699.000000     134.000000   \n",
       "75%      24.000000    443101.500000   11796.250000     532.000000   \n",
       "max      44.000000 113876217.000000 4924056.000000 1470386.000000   \n",
       "\n",
       "       comment_count  \n",
       "count   40840.000000  \n",
       "mean     2785.856513  \n",
       "std     17458.033257  \n",
       "min         0.000000  \n",
       "25%        79.000000  \n",
       "50%       376.000000  \n",
       "75%      1376.000000  \n",
       "max   1084435.000000  "
      ]
     },
     "execution_count": 17,
     "metadata": {},
     "output_type": "execute_result"
    }
   ],
   "source": [
    "germans.describe()"
   ]
  },
  {
   "cell_type": "code",
   "execution_count": 18,
   "id": "50e46436",
   "metadata": {
    "execution": {
     "iopub.execute_input": "2022-08-16T17:23:27.769806Z",
     "iopub.status.busy": "2022-08-16T17:23:27.769097Z",
     "iopub.status.idle": "2022-08-16T17:23:27.796218Z",
     "shell.execute_reply": "2022-08-16T17:23:27.795435Z"
    },
    "papermill": {
     "duration": 0.048426,
     "end_time": "2022-08-16T17:23:27.798164",
     "exception": false,
     "start_time": "2022-08-16T17:23:27.749738",
     "status": "completed"
    },
    "tags": []
   },
   "outputs": [
    {
     "data": {
      "text/html": [
       "<div>\n",
       "<style scoped>\n",
       "    .dataframe tbody tr th:only-of-type {\n",
       "        vertical-align: middle;\n",
       "    }\n",
       "\n",
       "    .dataframe tbody tr th {\n",
       "        vertical-align: top;\n",
       "    }\n",
       "\n",
       "    .dataframe thead th {\n",
       "        text-align: right;\n",
       "    }\n",
       "</style>\n",
       "<table border=\"1\" class=\"dataframe\">\n",
       "  <thead>\n",
       "    <tr style=\"text-align: right;\">\n",
       "      <th></th>\n",
       "      <th>category_id</th>\n",
       "      <th>views</th>\n",
       "      <th>likes</th>\n",
       "      <th>dislikes</th>\n",
       "      <th>comment_count</th>\n",
       "    </tr>\n",
       "  </thead>\n",
       "  <tbody>\n",
       "    <tr>\n",
       "      <th>count</th>\n",
       "      <td>37352.000000</td>\n",
       "      <td>37352.000000</td>\n",
       "      <td>37352.000000</td>\n",
       "      <td>37352.000000</td>\n",
       "      <td>37352.000000</td>\n",
       "    </tr>\n",
       "    <tr>\n",
       "      <th>mean</th>\n",
       "      <td>21.576596</td>\n",
       "      <td>1060477.645882</td>\n",
       "      <td>27082.717659</td>\n",
       "      <td>1665.081977</td>\n",
       "      <td>2676.997430</td>\n",
       "    </tr>\n",
       "    <tr>\n",
       "      <th>std</th>\n",
       "      <td>6.556593</td>\n",
       "      <td>3184932.053381</td>\n",
       "      <td>97145.095131</td>\n",
       "      <td>16076.174539</td>\n",
       "      <td>14868.317130</td>\n",
       "    </tr>\n",
       "    <tr>\n",
       "      <th>min</th>\n",
       "      <td>1.000000</td>\n",
       "      <td>4024.000000</td>\n",
       "      <td>0.000000</td>\n",
       "      <td>0.000000</td>\n",
       "      <td>0.000000</td>\n",
       "    </tr>\n",
       "    <tr>\n",
       "      <th>25%</th>\n",
       "      <td>23.000000</td>\n",
       "      <td>123915.500000</td>\n",
       "      <td>864.000000</td>\n",
       "      <td>108.000000</td>\n",
       "      <td>81.000000</td>\n",
       "    </tr>\n",
       "    <tr>\n",
       "      <th>50%</th>\n",
       "      <td>24.000000</td>\n",
       "      <td>304586.000000</td>\n",
       "      <td>3069.000000</td>\n",
       "      <td>326.000000</td>\n",
       "      <td>329.000000</td>\n",
       "    </tr>\n",
       "    <tr>\n",
       "      <th>75%</th>\n",
       "      <td>24.000000</td>\n",
       "      <td>799291.250000</td>\n",
       "      <td>13774.250000</td>\n",
       "      <td>1019.250000</td>\n",
       "      <td>1285.000000</td>\n",
       "    </tr>\n",
       "    <tr>\n",
       "      <th>max</th>\n",
       "      <td>43.000000</td>\n",
       "      <td>125432237.000000</td>\n",
       "      <td>2912710.000000</td>\n",
       "      <td>1545017.000000</td>\n",
       "      <td>827755.000000</td>\n",
       "    </tr>\n",
       "  </tbody>\n",
       "</table>\n",
       "</div>"
      ],
      "text/plain": [
       "       category_id            views          likes       dislikes  \\\n",
       "count 37352.000000     37352.000000   37352.000000   37352.000000   \n",
       "mean     21.576596   1060477.645882   27082.717659    1665.081977   \n",
       "std       6.556593   3184932.053381   97145.095131   16076.174539   \n",
       "min       1.000000      4024.000000       0.000000       0.000000   \n",
       "25%      23.000000    123915.500000     864.000000     108.000000   \n",
       "50%      24.000000    304586.000000    3069.000000     326.000000   \n",
       "75%      24.000000    799291.250000   13774.250000    1019.250000   \n",
       "max      43.000000 125432237.000000 2912710.000000 1545017.000000   \n",
       "\n",
       "       comment_count  \n",
       "count   37352.000000  \n",
       "mean     2676.997430  \n",
       "std     14868.317130  \n",
       "min         0.000000  \n",
       "25%        81.000000  \n",
       "50%       329.000000  \n",
       "75%      1285.000000  \n",
       "max    827755.000000  "
      ]
     },
     "execution_count": 18,
     "metadata": {},
     "output_type": "execute_result"
    }
   ],
   "source": [
    "indians.describe()"
   ]
  },
  {
   "cell_type": "markdown",
   "id": "8eee2d1d",
   "metadata": {
    "papermill": {
     "duration": 0.018008,
     "end_time": "2022-08-16T17:23:27.834842",
     "exception": false,
     "start_time": "2022-08-16T17:23:27.816834",
     "status": "completed"
    },
    "tags": []
   },
   "source": [
    "# Task nr 2\n",
    "* **Compare ratios of views,likes,dislikes for different categories/countries.**\n",
    "* **Is it easier for musicians to collect likes than for politicians ?**\n",
    "* **What is the sentiment to videos between Mexicans and Brits ?**"
   ]
  },
  {
   "cell_type": "markdown",
   "id": "8a597792",
   "metadata": {
    "papermill": {
     "duration": 0.017985,
     "end_time": "2022-08-16T17:23:27.871097",
     "exception": false,
     "start_time": "2022-08-16T17:23:27.853112",
     "status": "completed"
    },
    "tags": []
   },
   "source": [
    "Before anything else, we would have to open multiple csvs and json files. We will also create a lists of unique codes and unique countries."
   ]
  },
  {
   "cell_type": "code",
   "execution_count": 19,
   "id": "e5fdc674",
   "metadata": {
    "execution": {
     "iopub.execute_input": "2022-08-16T17:23:27.909075Z",
     "iopub.status.busy": "2022-08-16T17:23:27.908498Z",
     "iopub.status.idle": "2022-08-16T17:23:27.917420Z",
     "shell.execute_reply": "2022-08-16T17:23:27.916547Z"
    },
    "papermill": {
     "duration": 0.030455,
     "end_time": "2022-08-16T17:23:27.919573",
     "exception": false,
     "start_time": "2022-08-16T17:23:27.889118",
     "status": "completed"
    },
    "tags": []
   },
   "outputs": [
    {
     "data": {
      "text/plain": [
       "['../input/youtube-new/CAvideos.csv',\n",
       " '../input/youtube-new/DEvideos.csv',\n",
       " '../input/youtube-new/FRvideos.csv',\n",
       " '../input/youtube-new/GBvideos.csv',\n",
       " '../input/youtube-new/INvideos.csv',\n",
       " '../input/youtube-new/JPvideos.csv',\n",
       " '../input/youtube-new/KRvideos.csv',\n",
       " '../input/youtube-new/MXvideos.csv',\n",
       " '../input/youtube-new/RUvideos.csv',\n",
       " '../input/youtube-new/USvideos.csv']"
      ]
     },
     "execution_count": 19,
     "metadata": {},
     "output_type": "execute_result"
    }
   ],
   "source": [
    "# To open all csv's at once we are gona use loop thrugh list of all the csv files in our directory to access each of them, then we will create dataframe from them.\n",
    "import glob\n",
    "files = [i for i in glob.glob('../input/youtube-new/*.csv')]\n",
    "sorted(files)\n",
    "\n"
   ]
  },
  {
   "cell_type": "code",
   "execution_count": 20,
   "id": "5e257bf3",
   "metadata": {
    "execution": {
     "iopub.execute_input": "2022-08-16T17:23:27.958452Z",
     "iopub.status.busy": "2022-08-16T17:23:27.957724Z",
     "iopub.status.idle": "2022-08-16T17:23:39.518059Z",
     "shell.execute_reply": "2022-08-16T17:23:39.517062Z"
    },
    "papermill": {
     "duration": 11.582216,
     "end_time": "2022-08-16T17:23:39.520207",
     "exception": false,
     "start_time": "2022-08-16T17:23:27.937991",
     "status": "completed"
    },
    "tags": []
   },
   "outputs": [
    {
     "data": {
      "text/html": [
       "<div>\n",
       "<style scoped>\n",
       "    .dataframe tbody tr th:only-of-type {\n",
       "        vertical-align: middle;\n",
       "    }\n",
       "\n",
       "    .dataframe tbody tr th {\n",
       "        vertical-align: top;\n",
       "    }\n",
       "\n",
       "    .dataframe thead th {\n",
       "        text-align: right;\n",
       "    }\n",
       "</style>\n",
       "<table border=\"1\" class=\"dataframe\">\n",
       "  <thead>\n",
       "    <tr style=\"text-align: right;\">\n",
       "      <th></th>\n",
       "      <th>video_id</th>\n",
       "      <th>trending_date</th>\n",
       "      <th>title</th>\n",
       "      <th>channel_title</th>\n",
       "      <th>category_id</th>\n",
       "      <th>publish_time</th>\n",
       "      <th>tags</th>\n",
       "      <th>views</th>\n",
       "      <th>likes</th>\n",
       "      <th>dislikes</th>\n",
       "      <th>comment_count</th>\n",
       "      <th>thumbnail_link</th>\n",
       "      <th>comments_disabled</th>\n",
       "      <th>ratings_disabled</th>\n",
       "      <th>video_error_or_removed</th>\n",
       "      <th>description</th>\n",
       "      <th>country</th>\n",
       "    </tr>\n",
       "  </thead>\n",
       "  <tbody>\n",
       "    <tr>\n",
       "      <th>0</th>\n",
       "      <td>Jw1Y-zhQURU</td>\n",
       "      <td>17.14.11</td>\n",
       "      <td>John Lewis Christmas Ad 2017 - #MozTheMonster</td>\n",
       "      <td>John Lewis</td>\n",
       "      <td>26</td>\n",
       "      <td>2017-11-10T07:38:29.000Z</td>\n",
       "      <td>christmas|\"john lewis christmas\"|\"john lewis\"|...</td>\n",
       "      <td>7224515</td>\n",
       "      <td>55681</td>\n",
       "      <td>10247</td>\n",
       "      <td>9479</td>\n",
       "      <td>https://i.ytimg.com/vi/Jw1Y-zhQURU/default.jpg</td>\n",
       "      <td>False</td>\n",
       "      <td>False</td>\n",
       "      <td>False</td>\n",
       "      <td>Click here to continue the story and make your...</td>\n",
       "      <td>GB</td>\n",
       "    </tr>\n",
       "    <tr>\n",
       "      <th>1</th>\n",
       "      <td>3s1rvMFUweQ</td>\n",
       "      <td>17.14.11</td>\n",
       "      <td>Taylor Swift: â¦Ready for It? (Live) - SNL</td>\n",
       "      <td>Saturday Night Live</td>\n",
       "      <td>24</td>\n",
       "      <td>2017-11-12T06:24:44.000Z</td>\n",
       "      <td>SNL|\"Saturday Night Live\"|\"SNL Season 43\"|\"Epi...</td>\n",
       "      <td>1053632</td>\n",
       "      <td>25561</td>\n",
       "      <td>2294</td>\n",
       "      <td>2757</td>\n",
       "      <td>https://i.ytimg.com/vi/3s1rvMFUweQ/default.jpg</td>\n",
       "      <td>False</td>\n",
       "      <td>False</td>\n",
       "      <td>False</td>\n",
       "      <td>Musical guest Taylor Swift performs â¦Ready f...</td>\n",
       "      <td>GB</td>\n",
       "    </tr>\n",
       "    <tr>\n",
       "      <th>2</th>\n",
       "      <td>n1WpP7iowLc</td>\n",
       "      <td>17.14.11</td>\n",
       "      <td>Eminem - Walk On Water (Audio) ft. BeyoncÃ©</td>\n",
       "      <td>EminemVEVO</td>\n",
       "      <td>10</td>\n",
       "      <td>2017-11-10T17:00:03.000Z</td>\n",
       "      <td>Eminem|\"Walk\"|\"On\"|\"Water\"|\"Aftermath/Shady/In...</td>\n",
       "      <td>17158579</td>\n",
       "      <td>787420</td>\n",
       "      <td>43420</td>\n",
       "      <td>125882</td>\n",
       "      <td>https://i.ytimg.com/vi/n1WpP7iowLc/default.jpg</td>\n",
       "      <td>False</td>\n",
       "      <td>False</td>\n",
       "      <td>False</td>\n",
       "      <td>Eminem's new track Walk on Water ft. BeyoncÃ© ...</td>\n",
       "      <td>GB</td>\n",
       "    </tr>\n",
       "  </tbody>\n",
       "</table>\n",
       "</div>"
      ],
      "text/plain": [
       "      video_id trending_date                                          title  \\\n",
       "0  Jw1Y-zhQURU      17.14.11  John Lewis Christmas Ad 2017 - #MozTheMonster   \n",
       "1  3s1rvMFUweQ      17.14.11    Taylor Swift: â¦Ready for It? (Live) - SNL   \n",
       "2  n1WpP7iowLc      17.14.11    Eminem - Walk On Water (Audio) ft. BeyoncÃ©   \n",
       "\n",
       "         channel_title  category_id              publish_time  \\\n",
       "0           John Lewis           26  2017-11-10T07:38:29.000Z   \n",
       "1  Saturday Night Live           24  2017-11-12T06:24:44.000Z   \n",
       "2           EminemVEVO           10  2017-11-10T17:00:03.000Z   \n",
       "\n",
       "                                                tags     views   likes  \\\n",
       "0  christmas|\"john lewis christmas\"|\"john lewis\"|...   7224515   55681   \n",
       "1  SNL|\"Saturday Night Live\"|\"SNL Season 43\"|\"Epi...   1053632   25561   \n",
       "2  Eminem|\"Walk\"|\"On\"|\"Water\"|\"Aftermath/Shady/In...  17158579  787420   \n",
       "\n",
       "   dislikes  comment_count                                  thumbnail_link  \\\n",
       "0     10247           9479  https://i.ytimg.com/vi/Jw1Y-zhQURU/default.jpg   \n",
       "1      2294           2757  https://i.ytimg.com/vi/3s1rvMFUweQ/default.jpg   \n",
       "2     43420         125882  https://i.ytimg.com/vi/n1WpP7iowLc/default.jpg   \n",
       "\n",
       "   comments_disabled  ratings_disabled  video_error_or_removed  \\\n",
       "0              False             False                   False   \n",
       "1              False             False                   False   \n",
       "2              False             False                   False   \n",
       "\n",
       "                                         description country  \n",
       "0  Click here to continue the story and make your...      GB  \n",
       "1  Musical guest Taylor Swift performs â¦Ready f...      GB  \n",
       "2  Eminem's new track Walk on Water ft. BeyoncÃ© ...      GB  "
      ]
     },
     "execution_count": 20,
     "metadata": {},
     "output_type": "execute_result"
    }
   ],
   "source": [
    "dfs = list()\n",
    "for csv in files:\n",
    "    df = pd.read_csv(csv,encoding='latin1')\n",
    "    df['country'] = csv[21:23]\n",
    "    dfs.append(df)\n",
    "\n",
    "all_df = pd.concat(dfs)\n",
    "all_df.head(3)"
   ]
  },
  {
   "cell_type": "code",
   "execution_count": 21,
   "id": "30055534",
   "metadata": {
    "execution": {
     "iopub.execute_input": "2022-08-16T17:23:39.559755Z",
     "iopub.status.busy": "2022-08-16T17:23:39.559351Z",
     "iopub.status.idle": "2022-08-16T17:23:39.591386Z",
     "shell.execute_reply": "2022-08-16T17:23:39.590443Z"
    },
    "papermill": {
     "duration": 0.054603,
     "end_time": "2022-08-16T17:23:39.593647",
     "exception": false,
     "start_time": "2022-08-16T17:23:39.539044",
     "status": "completed"
    },
    "tags": []
   },
   "outputs": [
    {
     "data": {
      "text/plain": [
       "['GB', 'MX', 'KR', 'DE', 'FR', 'US', 'IN', 'RU', 'JP', 'CA']"
      ]
     },
     "execution_count": 21,
     "metadata": {},
     "output_type": "execute_result"
    }
   ],
   "source": [
    "#List of unique countries\n",
    "\n",
    "countries = all_df.country.unique()\n",
    "\n",
    "countries = countries.tolist()\n",
    "countries"
   ]
  },
  {
   "cell_type": "code",
   "execution_count": 22,
   "id": "3320eff0",
   "metadata": {
    "execution": {
     "iopub.execute_input": "2022-08-16T17:23:39.633235Z",
     "iopub.status.busy": "2022-08-16T17:23:39.632877Z",
     "iopub.status.idle": "2022-08-16T17:23:39.642079Z",
     "shell.execute_reply": "2022-08-16T17:23:39.641233Z"
    },
    "papermill": {
     "duration": 0.031416,
     "end_time": "2022-08-16T17:23:39.644065",
     "exception": false,
     "start_time": "2022-08-16T17:23:39.612649",
     "status": "completed"
    },
    "tags": []
   },
   "outputs": [
    {
     "data": {
      "text/plain": [
       "[1, 2, 10, 15, 17, 19, 20, 22, 23, 24, 25, 26, 27, 28, 29, 30, 43, 44]"
      ]
     },
     "execution_count": 22,
     "metadata": {},
     "output_type": "execute_result"
    }
   ],
   "source": [
    "#List of unique codes\n",
    "categories = all_df.category_id.unique()\n",
    "\n",
    "categories = categories.tolist()\n",
    "categories = sorted(categories) \n",
    "categories\n"
   ]
  },
  {
   "cell_type": "code",
   "execution_count": 23,
   "id": "f63e3f06",
   "metadata": {
    "execution": {
     "iopub.execute_input": "2022-08-16T17:23:39.684899Z",
     "iopub.status.busy": "2022-08-16T17:23:39.683740Z",
     "iopub.status.idle": "2022-08-16T17:23:39.812859Z",
     "shell.execute_reply": "2022-08-16T17:23:39.812006Z"
    },
    "papermill": {
     "duration": 0.151615,
     "end_time": "2022-08-16T17:23:39.815084",
     "exception": false,
     "start_time": "2022-08-16T17:23:39.663469",
     "status": "completed"
    },
    "tags": []
   },
   "outputs": [
    {
     "data": {
      "text/html": [
       "<div>\n",
       "<style scoped>\n",
       "    .dataframe tbody tr th:only-of-type {\n",
       "        vertical-align: middle;\n",
       "    }\n",
       "\n",
       "    .dataframe tbody tr th {\n",
       "        vertical-align: top;\n",
       "    }\n",
       "\n",
       "    .dataframe thead th {\n",
       "        text-align: right;\n",
       "    }\n",
       "</style>\n",
       "<table border=\"1\" class=\"dataframe\">\n",
       "  <thead>\n",
       "    <tr style=\"text-align: right;\">\n",
       "      <th></th>\n",
       "      <th>kind</th>\n",
       "      <th>etag</th>\n",
       "      <th>items</th>\n",
       "      <th>country</th>\n",
       "    </tr>\n",
       "  </thead>\n",
       "  <tbody>\n",
       "    <tr>\n",
       "      <th>0</th>\n",
       "      <td>youtube#videoCategoryListResponse</td>\n",
       "      <td>\"XI7nbFXulYBIpL0ayR_gDh3eu1k/1v2mrzYSYG6onNLt2...</td>\n",
       "      <td>{'kind': 'youtube#videoCategory', 'etag': '\"XI...</td>\n",
       "      <td>MX</td>\n",
       "    </tr>\n",
       "    <tr>\n",
       "      <th>1</th>\n",
       "      <td>youtube#videoCategoryListResponse</td>\n",
       "      <td>\"XI7nbFXulYBIpL0ayR_gDh3eu1k/1v2mrzYSYG6onNLt2...</td>\n",
       "      <td>{'kind': 'youtube#videoCategory', 'etag': '\"XI...</td>\n",
       "      <td>MX</td>\n",
       "    </tr>\n",
       "    <tr>\n",
       "      <th>2</th>\n",
       "      <td>youtube#videoCategoryListResponse</td>\n",
       "      <td>\"XI7nbFXulYBIpL0ayR_gDh3eu1k/1v2mrzYSYG6onNLt2...</td>\n",
       "      <td>{'kind': 'youtube#videoCategory', 'etag': '\"XI...</td>\n",
       "      <td>MX</td>\n",
       "    </tr>\n",
       "  </tbody>\n",
       "</table>\n",
       "</div>"
      ],
      "text/plain": [
       "                                kind  \\\n",
       "0  youtube#videoCategoryListResponse   \n",
       "1  youtube#videoCategoryListResponse   \n",
       "2  youtube#videoCategoryListResponse   \n",
       "\n",
       "                                                etag  \\\n",
       "0  \"XI7nbFXulYBIpL0ayR_gDh3eu1k/1v2mrzYSYG6onNLt2...   \n",
       "1  \"XI7nbFXulYBIpL0ayR_gDh3eu1k/1v2mrzYSYG6onNLt2...   \n",
       "2  \"XI7nbFXulYBIpL0ayR_gDh3eu1k/1v2mrzYSYG6onNLt2...   \n",
       "\n",
       "                                               items country  \n",
       "0  {'kind': 'youtube#videoCategory', 'etag': '\"XI...      MX  \n",
       "1  {'kind': 'youtube#videoCategory', 'etag': '\"XI...      MX  \n",
       "2  {'kind': 'youtube#videoCategory', 'etag': '\"XI...      MX  "
      ]
     },
     "execution_count": 23,
     "metadata": {},
     "output_type": "execute_result"
    }
   ],
   "source": [
    "\n",
    "#Load the json the files:\n",
    "files = [i for i in glob.glob('../input/youtube-new/*.json')]\n",
    "sorted(files)\n",
    "\n",
    "dfs = list()\n",
    "for json in files:\n",
    "    df = pd.read_json(json)\n",
    "    df['country'] = json[21:23]\n",
    "    dfs.append(df)\n",
    "\n",
    "jsons_df = pd.concat(dfs)\n",
    "jsons_df.head(3)\n",
    "\n"
   ]
  },
  {
   "cell_type": "code",
   "execution_count": 24,
   "id": "1295ca4c",
   "metadata": {
    "execution": {
     "iopub.execute_input": "2022-08-16T17:23:39.856557Z",
     "iopub.status.busy": "2022-08-16T17:23:39.855555Z",
     "iopub.status.idle": "2022-08-16T17:23:39.863224Z",
     "shell.execute_reply": "2022-08-16T17:23:39.862564Z"
    },
    "papermill": {
     "duration": 0.029878,
     "end_time": "2022-08-16T17:23:39.865003",
     "exception": false,
     "start_time": "2022-08-16T17:23:39.835125",
     "status": "completed"
    },
    "tags": []
   },
   "outputs": [
    {
     "data": {
      "text/plain": [
       "['Film & Animation',\n",
       " 'Autos & Vehicles',\n",
       " 'Music',\n",
       " 'Pets & Animals',\n",
       " 'Sports',\n",
       " 'Travel & Events',\n",
       " 'Gaming',\n",
       " 'People & Blogs',\n",
       " 'Comedy',\n",
       " 'Entertainment',\n",
       " 'News & Politics',\n",
       " 'Howto & Style',\n",
       " 'Education',\n",
       " 'Science & Technology',\n",
       " 'Nonprofits & Activism',\n",
       " 'Movies',\n",
       " 'Shows',\n",
       " 'Trailers']"
      ]
     },
     "execution_count": 24,
     "metadata": {},
     "output_type": "execute_result"
    }
   ],
   "source": [
    "#As categories_id is sorted and values from cv are \n",
    "cn = {category['id']: category['snippet']['title'] for category in jsons_df['items']}\n",
    "\n",
    "categories_names = list()\n",
    "\n",
    "for key in categories:\n",
    "    categories_names.append(cn.get(f'{key}'))\n",
    "    \n",
    "categories_names"
   ]
  },
  {
   "cell_type": "markdown",
   "id": "7889cd1c",
   "metadata": {
    "papermill": {
     "duration": 0.018714,
     "end_time": "2022-08-16T17:23:39.902670",
     "exception": false,
     "start_time": "2022-08-16T17:23:39.883956",
     "status": "completed"
    },
    "tags": []
   },
   "source": [
    "**Now when we have both lists, we can group the dataframes, extract values for views,likes and dislikes from them and create new dataframe with our ratios******"
   ]
  },
  {
   "cell_type": "markdown",
   "id": "caa25338",
   "metadata": {
    "papermill": {
     "duration": 0.018972,
     "end_time": "2022-08-16T17:23:39.940817",
     "exception": false,
     "start_time": "2022-08-16T17:23:39.921845",
     "status": "completed"
    },
    "tags": []
   },
   "source": [
    "**We will mark the ratios as follows**:\n",
    "* L2V - Likes to views\n",
    "* D2V - Dislikes to views\n",
    "* L2D - Likes to Dislikes"
   ]
  },
  {
   "cell_type": "code",
   "execution_count": 25,
   "id": "f16cc785",
   "metadata": {
    "execution": {
     "iopub.execute_input": "2022-08-16T17:23:39.981388Z",
     "iopub.status.busy": "2022-08-16T17:23:39.980295Z",
     "iopub.status.idle": "2022-08-16T17:23:40.299161Z",
     "shell.execute_reply": "2022-08-16T17:23:40.298391Z"
    },
    "papermill": {
     "duration": 0.341578,
     "end_time": "2022-08-16T17:23:40.301133",
     "exception": false,
     "start_time": "2022-08-16T17:23:39.959555",
     "status": "completed"
    },
    "tags": []
   },
   "outputs": [
    {
     "data": {
      "text/html": [
       "<div>\n",
       "<style scoped>\n",
       "    .dataframe tbody tr th:only-of-type {\n",
       "        vertical-align: middle;\n",
       "    }\n",
       "\n",
       "    .dataframe tbody tr th {\n",
       "        vertical-align: top;\n",
       "    }\n",
       "\n",
       "    .dataframe thead th {\n",
       "        text-align: right;\n",
       "    }\n",
       "</style>\n",
       "<table border=\"1\" class=\"dataframe\">\n",
       "  <thead>\n",
       "    <tr style=\"text-align: right;\">\n",
       "      <th></th>\n",
       "      <th>country</th>\n",
       "      <th>views</th>\n",
       "      <th>likes</th>\n",
       "      <th>dislikes</th>\n",
       "      <th>L2V</th>\n",
       "      <th>D2V</th>\n",
       "      <th>L2D</th>\n",
       "    </tr>\n",
       "  </thead>\n",
       "  <tbody>\n",
       "    <tr>\n",
       "      <th>0</th>\n",
       "      <td>GB</td>\n",
       "      <td>230069198174</td>\n",
       "      <td>5234962944</td>\n",
       "      <td>296250384</td>\n",
       "      <td>0.022754</td>\n",
       "      <td>0.001288</td>\n",
       "      <td>17.670738</td>\n",
       "    </tr>\n",
       "    <tr>\n",
       "      <th>1</th>\n",
       "      <td>MX</td>\n",
       "      <td>13849692994</td>\n",
       "      <td>641627186</td>\n",
       "      <td>30223385</td>\n",
       "      <td>0.046328</td>\n",
       "      <td>0.002182</td>\n",
       "      <td>21.229495</td>\n",
       "    </tr>\n",
       "    <tr>\n",
       "      <th>2</th>\n",
       "      <td>KR</td>\n",
       "      <td>14689152313</td>\n",
       "      <td>421247912</td>\n",
       "      <td>18634999</td>\n",
       "      <td>0.028677</td>\n",
       "      <td>0.001269</td>\n",
       "      <td>22.605202</td>\n",
       "    </tr>\n",
       "    <tr>\n",
       "      <th>3</th>\n",
       "      <td>DE</td>\n",
       "      <td>24645115205</td>\n",
       "      <td>893395538</td>\n",
       "      <td>57059031</td>\n",
       "      <td>0.036250</td>\n",
       "      <td>0.002315</td>\n",
       "      <td>15.657391</td>\n",
       "    </tr>\n",
       "    <tr>\n",
       "      <th>4</th>\n",
       "      <td>FR</td>\n",
       "      <td>17100897444</td>\n",
       "      <td>708144090</td>\n",
       "      <td>33188528</td>\n",
       "      <td>0.041410</td>\n",
       "      <td>0.001941</td>\n",
       "      <td>21.337014</td>\n",
       "    </tr>\n",
       "    <tr>\n",
       "      <th>5</th>\n",
       "      <td>US</td>\n",
       "      <td>96671770152</td>\n",
       "      <td>3041147198</td>\n",
       "      <td>151978155</td>\n",
       "      <td>0.031458</td>\n",
       "      <td>0.001572</td>\n",
       "      <td>20.010423</td>\n",
       "    </tr>\n",
       "    <tr>\n",
       "      <th>6</th>\n",
       "      <td>IN</td>\n",
       "      <td>39610961029</td>\n",
       "      <td>1011593670</td>\n",
       "      <td>62194142</td>\n",
       "      <td>0.025538</td>\n",
       "      <td>0.001570</td>\n",
       "      <td>16.265096</td>\n",
       "    </tr>\n",
       "    <tr>\n",
       "      <th>7</th>\n",
       "      <td>RU</td>\n",
       "      <td>9806494525</td>\n",
       "      <td>506598491</td>\n",
       "      <td>60098157</td>\n",
       "      <td>0.051659</td>\n",
       "      <td>0.006128</td>\n",
       "      <td>8.429518</td>\n",
       "    </tr>\n",
       "    <tr>\n",
       "      <th>8</th>\n",
       "      <td>JP</td>\n",
       "      <td>5377466630</td>\n",
       "      <td>165406898</td>\n",
       "      <td>7528321</td>\n",
       "      <td>0.030759</td>\n",
       "      <td>0.001400</td>\n",
       "      <td>21.971287</td>\n",
       "    </tr>\n",
       "    <tr>\n",
       "      <th>9</th>\n",
       "      <td>CA</td>\n",
       "      <td>46891975069</td>\n",
       "      <td>1618179878</td>\n",
       "      <td>82137919</td>\n",
       "      <td>0.034509</td>\n",
       "      <td>0.001752</td>\n",
       "      <td>19.700765</td>\n",
       "    </tr>\n",
       "  </tbody>\n",
       "</table>\n",
       "</div>"
      ],
      "text/plain": [
       "  country         views       likes   dislikes      L2V      D2V       L2D\n",
       "0      GB  230069198174  5234962944  296250384 0.022754 0.001288 17.670738\n",
       "1      MX   13849692994   641627186   30223385 0.046328 0.002182 21.229495\n",
       "2      KR   14689152313   421247912   18634999 0.028677 0.001269 22.605202\n",
       "3      DE   24645115205   893395538   57059031 0.036250 0.002315 15.657391\n",
       "4      FR   17100897444   708144090   33188528 0.041410 0.001941 21.337014\n",
       "5      US   96671770152  3041147198  151978155 0.031458 0.001572 20.010423\n",
       "6      IN   39610961029  1011593670   62194142 0.025538 0.001570 16.265096\n",
       "7      RU    9806494525   506598491   60098157 0.051659 0.006128  8.429518\n",
       "8      JP    5377466630   165406898    7528321 0.030759 0.001400 21.971287\n",
       "9      CA   46891975069  1618179878   82137919 0.034509 0.001752 19.700765"
      ]
     },
     "execution_count": 25,
     "metadata": {},
     "output_type": "execute_result"
    }
   ],
   "source": [
    "#Compare ratios for different countries\n",
    "\n",
    "gcountry_df = all_df.groupby('country', as_index=False).sum()\n",
    "\n",
    "\n",
    "gcountry_df.loc[gcountry_df['country']=='CA']\n",
    "\n",
    "list_of_views = list()\n",
    "list_of_likes = list()\n",
    "list_of_dislikes = list()\n",
    "\n",
    "Ratio_df = pd.DataFrame()\n",
    "\n",
    "\n",
    "for c in range(len(countries)):\n",
    "    x = int(gcountry_df[gcountry_df['country']==f'{countries[c]}'].views)\n",
    "    y = int(gcountry_df[gcountry_df['country']==f'{countries[c]}'].likes)\n",
    "    z = int(gcountry_df[gcountry_df['country']==f'{countries[c]}'].dislikes)\n",
    "    list_of_views.append(x)\n",
    "    list_of_likes.append(y)\n",
    "    list_of_dislikes.append(z)\n",
    "    \n",
    "ratio_df = pd.DataFrame({'country':countries, 'views': list_of_views, 'likes': list_of_likes, 'dislikes': list_of_dislikes})\n",
    "ratio_df.head()\n",
    "\n",
    "ratio_df['L2V'] = ratio_df['likes']/ratio_df['views']\n",
    "ratio_df['D2V'] = ratio_df['dislikes']/ratio_df['views']\n",
    "ratio_df['L2D'] = ratio_df['likes']/ratio_df['dislikes']\n",
    "\n",
    "\n",
    "ratio_df\n",
    " \n",
    "    "
   ]
  },
  {
   "cell_type": "markdown",
   "id": "eb3ec9f9",
   "metadata": {
    "papermill": {
     "duration": 0.019256,
     "end_time": "2022-08-16T17:23:40.340787",
     "exception": false,
     "start_time": "2022-08-16T17:23:40.321531",
     "status": "completed"
    },
    "tags": []
   },
   "source": [
    "**As we can see in the first two rows, british have significantly lower count of likes to dislikes (they have 17.5 times more likes than dislikes) in commparison to the Mexicans (they have 21.2 times more likes than dislikes)**"
   ]
  },
  {
   "cell_type": "markdown",
   "id": "bead18bd",
   "metadata": {
    "papermill": {
     "duration": 0.019545,
     "end_time": "2022-08-16T17:23:40.380027",
     "exception": false,
     "start_time": "2022-08-16T17:23:40.360482",
     "status": "completed"
    },
    "tags": []
   },
   "source": [
    "Well we can even visualize those ratios using multiple line charts"
   ]
  },
  {
   "cell_type": "code",
   "execution_count": 26,
   "id": "f5ab4303",
   "metadata": {
    "execution": {
     "iopub.execute_input": "2022-08-16T17:23:40.422078Z",
     "iopub.status.busy": "2022-08-16T17:23:40.421323Z",
     "iopub.status.idle": "2022-08-16T17:23:40.958457Z",
     "shell.execute_reply": "2022-08-16T17:23:40.957191Z"
    },
    "papermill": {
     "duration": 0.561009,
     "end_time": "2022-08-16T17:23:40.961188",
     "exception": false,
     "start_time": "2022-08-16T17:23:40.400179",
     "status": "completed"
    },
    "tags": []
   },
   "outputs": [
    {
     "data": {
      "text/plain": [
       "[Text(0.5, 0, 'Country'), Text(0, 0.5, 'L2D'), Text(0.5, 1.0, 'L2D')]"
      ]
     },
     "execution_count": 26,
     "metadata": {},
     "output_type": "execute_result"
    },
    {
     "data": {
      "image/png": "[encoded data removed]",
      "text/plain": [
       "<Figure size 1080x720 with 4 Axes>"
      ]
     },
     "metadata": {
      "needs_background": "light"
     },
     "output_type": "display_data"
    }
   ],
   "source": [
    "fig, axs = plt.subplots(2, 2, figsize=(15,10))\n",
    "\n",
    "\n",
    "axs[0,0].plot(ratio_df['country'], ratio_df['likes'], 'tab:orange')\n",
    "axs[0,0].set(xlabel = 'Country',ylabel = 'Likes', title='Likes')\n",
    "\n",
    "axs[0,1].plot(ratio_df['country'], ratio_df['L2V'])\n",
    "axs[0,1].set(xlabel = 'Country',ylabel = 'L2V', title = 'L2V')\n",
    "\n",
    "axs[1,0].plot(ratio_df['country'], ratio_df['D2V'], 'tab:green')\n",
    "axs[1,0].set(xlabel = 'Country',ylabel = 'D2V', title = 'D2V')\n",
    "\n",
    "axs[1,1].plot(ratio_df['country'], ratio_df['L2D'], 'tab:red')\n",
    "axs[1,1].set(xlabel = 'Country',ylabel = 'L2D', title = 'L2D')"
   ]
  },
  {
   "cell_type": "code",
   "execution_count": 27,
   "id": "5cdca856",
   "metadata": {
    "execution": {
     "iopub.execute_input": "2022-08-16T17:23:41.005712Z",
     "iopub.status.busy": "2022-08-16T17:23:41.005276Z",
     "iopub.status.idle": "2022-08-16T17:23:41.120121Z",
     "shell.execute_reply": "2022-08-16T17:23:41.119037Z"
    },
    "papermill": {
     "duration": 0.140232,
     "end_time": "2022-08-16T17:23:41.122588",
     "exception": false,
     "start_time": "2022-08-16T17:23:40.982356",
     "status": "completed"
    },
    "tags": []
   },
   "outputs": [
    {
     "data": {
      "text/html": [
       "<div>\n",
       "<style scoped>\n",
       "    .dataframe tbody tr th:only-of-type {\n",
       "        vertical-align: middle;\n",
       "    }\n",
       "\n",
       "    .dataframe tbody tr th {\n",
       "        vertical-align: top;\n",
       "    }\n",
       "\n",
       "    .dataframe thead th {\n",
       "        text-align: right;\n",
       "    }\n",
       "</style>\n",
       "<table border=\"1\" class=\"dataframe\">\n",
       "  <thead>\n",
       "    <tr style=\"text-align: right;\">\n",
       "      <th></th>\n",
       "      <th>category_id</th>\n",
       "      <th>views</th>\n",
       "      <th>likes</th>\n",
       "      <th>dislikes</th>\n",
       "      <th>comment_count</th>\n",
       "      <th>comments_disabled</th>\n",
       "      <th>ratings_disabled</th>\n",
       "      <th>video_error_or_removed</th>\n",
       "    </tr>\n",
       "  </thead>\n",
       "  <tbody>\n",
       "    <tr>\n",
       "      <th>0</th>\n",
       "      <td>1</td>\n",
       "      <td>27619347901</td>\n",
       "      <td>589885590</td>\n",
       "      <td>25279207</td>\n",
       "      <td>65387125</td>\n",
       "      <td>536</td>\n",
       "      <td>519</td>\n",
       "      <td>85</td>\n",
       "    </tr>\n",
       "    <tr>\n",
       "      <th>1</th>\n",
       "      <td>2</td>\n",
       "      <td>1661853766</td>\n",
       "      <td>45461895</td>\n",
       "      <td>2571460</td>\n",
       "      <td>5957385</td>\n",
       "      <td>73</td>\n",
       "      <td>75</td>\n",
       "      <td>2</td>\n",
       "    </tr>\n",
       "    <tr>\n",
       "      <th>2</th>\n",
       "      <td>10</td>\n",
       "      <td>255967088943</td>\n",
       "      <td>7227198427</td>\n",
       "      <td>294657819</td>\n",
       "      <td>620030515</td>\n",
       "      <td>236</td>\n",
       "      <td>231</td>\n",
       "      <td>60</td>\n",
       "    </tr>\n",
       "    <tr>\n",
       "      <th>3</th>\n",
       "      <td>15</td>\n",
       "      <td>2008474231</td>\n",
       "      <td>56601492</td>\n",
       "      <td>1503766</td>\n",
       "      <td>8103678</td>\n",
       "      <td>94</td>\n",
       "      <td>88</td>\n",
       "      <td>1</td>\n",
       "    </tr>\n",
       "    <tr>\n",
       "      <th>4</th>\n",
       "      <td>17</td>\n",
       "      <td>18972425164</td>\n",
       "      <td>399630743</td>\n",
       "      <td>26536025</td>\n",
       "      <td>46998109</td>\n",
       "      <td>513</td>\n",
       "      <td>448</td>\n",
       "      <td>5</td>\n",
       "    </tr>\n",
       "  </tbody>\n",
       "</table>\n",
       "</div>"
      ],
      "text/plain": [
       "   category_id         views       likes   dislikes  comment_count  \\\n",
       "0            1   27619347901   589885590   25279207       65387125   \n",
       "1            2    1661853766    45461895    2571460        5957385   \n",
       "2           10  255967088943  7227198427  294657819      620030515   \n",
       "3           15    2008474231    56601492    1503766        8103678   \n",
       "4           17   18972425164   399630743   26536025       46998109   \n",
       "\n",
       "   comments_disabled  ratings_disabled  video_error_or_removed  \n",
       "0                536               519                      85  \n",
       "1                 73                75                       2  \n",
       "2                236               231                      60  \n",
       "3                 94                88                       1  \n",
       "4                513               448                       5  "
      ]
     },
     "execution_count": 27,
     "metadata": {},
     "output_type": "execute_result"
    }
   ],
   "source": [
    "# We need a list of all categories\n",
    "category_df = all_df.groupby('category_id', as_index=False).sum()\n",
    "category_df.head(5)"
   ]
  },
  {
   "cell_type": "code",
   "execution_count": 28,
   "id": "bac28ebc",
   "metadata": {
    "execution": {
     "iopub.execute_input": "2022-08-16T17:23:41.165983Z",
     "iopub.status.busy": "2022-08-16T17:23:41.165598Z",
     "iopub.status.idle": "2022-08-16T17:23:41.318182Z",
     "shell.execute_reply": "2022-08-16T17:23:41.317010Z"
    },
    "papermill": {
     "duration": 0.17719,
     "end_time": "2022-08-16T17:23:41.320741",
     "exception": false,
     "start_time": "2022-08-16T17:23:41.143551",
     "status": "completed"
    },
    "tags": []
   },
   "outputs": [
    {
     "data": {
      "text/html": [
       "<div>\n",
       "<style scoped>\n",
       "    .dataframe tbody tr th:only-of-type {\n",
       "        vertical-align: middle;\n",
       "    }\n",
       "\n",
       "    .dataframe tbody tr th {\n",
       "        vertical-align: top;\n",
       "    }\n",
       "\n",
       "    .dataframe thead th {\n",
       "        text-align: right;\n",
       "    }\n",
       "</style>\n",
       "<table border=\"1\" class=\"dataframe\">\n",
       "  <thead>\n",
       "    <tr style=\"text-align: right;\">\n",
       "      <th></th>\n",
       "      <th>category_id</th>\n",
       "      <th>category_name</th>\n",
       "      <th>views</th>\n",
       "      <th>likes</th>\n",
       "      <th>dislikes</th>\n",
       "      <th>L2V</th>\n",
       "      <th>D2V</th>\n",
       "      <th>L2D</th>\n",
       "    </tr>\n",
       "  </thead>\n",
       "  <tbody>\n",
       "    <tr>\n",
       "      <th>0</th>\n",
       "      <td>1</td>\n",
       "      <td>Film &amp; Animation</td>\n",
       "      <td>27619347901</td>\n",
       "      <td>589885590</td>\n",
       "      <td>25279207</td>\n",
       "      <td>0.021358</td>\n",
       "      <td>0.000915</td>\n",
       "      <td>23.334814</td>\n",
       "    </tr>\n",
       "    <tr>\n",
       "      <th>1</th>\n",
       "      <td>2</td>\n",
       "      <td>Autos &amp; Vehicles</td>\n",
       "      <td>1661853766</td>\n",
       "      <td>45461895</td>\n",
       "      <td>2571460</td>\n",
       "      <td>0.027356</td>\n",
       "      <td>0.001547</td>\n",
       "      <td>17.679410</td>\n",
       "    </tr>\n",
       "    <tr>\n",
       "      <th>2</th>\n",
       "      <td>10</td>\n",
       "      <td>Music</td>\n",
       "      <td>255967088943</td>\n",
       "      <td>7227198427</td>\n",
       "      <td>294657819</td>\n",
       "      <td>0.028235</td>\n",
       "      <td>0.001151</td>\n",
       "      <td>24.527428</td>\n",
       "    </tr>\n",
       "    <tr>\n",
       "      <th>3</th>\n",
       "      <td>15</td>\n",
       "      <td>Pets &amp; Animals</td>\n",
       "      <td>2008474231</td>\n",
       "      <td>56601492</td>\n",
       "      <td>1503766</td>\n",
       "      <td>0.028181</td>\n",
       "      <td>0.000749</td>\n",
       "      <td>37.639827</td>\n",
       "    </tr>\n",
       "    <tr>\n",
       "      <th>4</th>\n",
       "      <td>17</td>\n",
       "      <td>Sports</td>\n",
       "      <td>18972425164</td>\n",
       "      <td>399630743</td>\n",
       "      <td>26536025</td>\n",
       "      <td>0.021064</td>\n",
       "      <td>0.001399</td>\n",
       "      <td>15.059932</td>\n",
       "    </tr>\n",
       "    <tr>\n",
       "      <th>5</th>\n",
       "      <td>19</td>\n",
       "      <td>Travel &amp; Events</td>\n",
       "      <td>726674959</td>\n",
       "      <td>13494079</td>\n",
       "      <td>739962</td>\n",
       "      <td>0.018570</td>\n",
       "      <td>0.001018</td>\n",
       "      <td>18.236178</td>\n",
       "    </tr>\n",
       "    <tr>\n",
       "      <th>6</th>\n",
       "      <td>20</td>\n",
       "      <td>Gaming</td>\n",
       "      <td>7730729502</td>\n",
       "      <td>298337663</td>\n",
       "      <td>19534374</td>\n",
       "      <td>0.038591</td>\n",
       "      <td>0.002527</td>\n",
       "      <td>15.272446</td>\n",
       "    </tr>\n",
       "    <tr>\n",
       "      <th>7</th>\n",
       "      <td>22</td>\n",
       "      <td>People &amp; Blogs</td>\n",
       "      <td>23600365409</td>\n",
       "      <td>692550961</td>\n",
       "      <td>56634003</td>\n",
       "      <td>0.029345</td>\n",
       "      <td>0.002400</td>\n",
       "      <td>12.228536</td>\n",
       "    </tr>\n",
       "    <tr>\n",
       "      <th>8</th>\n",
       "      <td>23</td>\n",
       "      <td>Comedy</td>\n",
       "      <td>22050866339</td>\n",
       "      <td>1081392644</td>\n",
       "      <td>40698333</td>\n",
       "      <td>0.049041</td>\n",
       "      <td>0.001846</td>\n",
       "      <td>26.570932</td>\n",
       "    </tr>\n",
       "    <tr>\n",
       "      <th>9</th>\n",
       "      <td>24</td>\n",
       "      <td>Entertainment</td>\n",
       "      <td>104517467253</td>\n",
       "      <td>2857743591</td>\n",
       "      <td>248270342</td>\n",
       "      <td>0.027342</td>\n",
       "      <td>0.002375</td>\n",
       "      <td>11.510612</td>\n",
       "    </tr>\n",
       "    <tr>\n",
       "      <th>10</th>\n",
       "      <td>25</td>\n",
       "      <td>News &amp; Politics</td>\n",
       "      <td>10422502991</td>\n",
       "      <td>163503422</td>\n",
       "      <td>28778398</td>\n",
       "      <td>0.015688</td>\n",
       "      <td>0.002761</td>\n",
       "      <td>5.681464</td>\n",
       "    </tr>\n",
       "    <tr>\n",
       "      <th>11</th>\n",
       "      <td>26</td>\n",
       "      <td>Howto &amp; Style</td>\n",
       "      <td>9771031927</td>\n",
       "      <td>347338295</td>\n",
       "      <td>12756984</td>\n",
       "      <td>0.035548</td>\n",
       "      <td>0.001306</td>\n",
       "      <td>27.227305</td>\n",
       "    </tr>\n",
       "    <tr>\n",
       "      <th>12</th>\n",
       "      <td>27</td>\n",
       "      <td>Education</td>\n",
       "      <td>2734841410</td>\n",
       "      <td>117479047</td>\n",
       "      <td>3710565</td>\n",
       "      <td>0.042956</td>\n",
       "      <td>0.001357</td>\n",
       "      <td>31.660690</td>\n",
       "    </tr>\n",
       "    <tr>\n",
       "      <th>13</th>\n",
       "      <td>28</td>\n",
       "      <td>Science &amp; Technology</td>\n",
       "      <td>9194715151</td>\n",
       "      <td>252570921</td>\n",
       "      <td>12218574</td>\n",
       "      <td>0.027469</td>\n",
       "      <td>0.001329</td>\n",
       "      <td>20.671064</td>\n",
       "    </tr>\n",
       "    <tr>\n",
       "      <th>14</th>\n",
       "      <td>29</td>\n",
       "      <td>Nonprofits &amp; Activism</td>\n",
       "      <td>1219859213</td>\n",
       "      <td>93538593</td>\n",
       "      <td>24670453</td>\n",
       "      <td>0.076680</td>\n",
       "      <td>0.020224</td>\n",
       "      <td>3.791523</td>\n",
       "    </tr>\n",
       "    <tr>\n",
       "      <th>15</th>\n",
       "      <td>30</td>\n",
       "      <td>Movies</td>\n",
       "      <td>70359777</td>\n",
       "      <td>1005417</td>\n",
       "      <td>50242</td>\n",
       "      <td>0.014290</td>\n",
       "      <td>0.000714</td>\n",
       "      <td>20.011484</td>\n",
       "    </tr>\n",
       "    <tr>\n",
       "      <th>16</th>\n",
       "      <td>43</td>\n",
       "      <td>Shows</td>\n",
       "      <td>444064556</td>\n",
       "      <td>4570827</td>\n",
       "      <td>682505</td>\n",
       "      <td>0.010293</td>\n",
       "      <td>0.001537</td>\n",
       "      <td>6.697133</td>\n",
       "    </tr>\n",
       "    <tr>\n",
       "      <th>17</th>\n",
       "      <td>44</td>\n",
       "      <td>Trailers</td>\n",
       "      <td>55043</td>\n",
       "      <td>198</td>\n",
       "      <td>9</td>\n",
       "      <td>0.003597</td>\n",
       "      <td>0.000164</td>\n",
       "      <td>22.000000</td>\n",
       "    </tr>\n",
       "  </tbody>\n",
       "</table>\n",
       "</div>"
      ],
      "text/plain": [
       "    category_id          category_name         views       likes   dislikes  \\\n",
       "0             1       Film & Animation   27619347901   589885590   25279207   \n",
       "1             2       Autos & Vehicles    1661853766    45461895    2571460   \n",
       "2            10                  Music  255967088943  7227198427  294657819   \n",
       "3            15         Pets & Animals    2008474231    56601492    1503766   \n",
       "4            17                 Sports   18972425164   399630743   26536025   \n",
       "5            19        Travel & Events     726674959    13494079     739962   \n",
       "6            20                 Gaming    7730729502   298337663   19534374   \n",
       "7            22         People & Blogs   23600365409   692550961   56634003   \n",
       "8            23                 Comedy   22050866339  1081392644   40698333   \n",
       "9            24          Entertainment  104517467253  2857743591  248270342   \n",
       "10           25        News & Politics   10422502991   163503422   28778398   \n",
       "11           26          Howto & Style    9771031927   347338295   12756984   \n",
       "12           27              Education    2734841410   117479047    3710565   \n",
       "13           28   Science & Technology    9194715151   252570921   12218574   \n",
       "14           29  Nonprofits & Activism    1219859213    93538593   24670453   \n",
       "15           30                 Movies      70359777     1005417      50242   \n",
       "16           43                  Shows     444064556     4570827     682505   \n",
       "17           44               Trailers         55043         198          9   \n",
       "\n",
       "        L2V      D2V       L2D  \n",
       "0  0.021358 0.000915 23.334814  \n",
       "1  0.027356 0.001547 17.679410  \n",
       "2  0.028235 0.001151 24.527428  \n",
       "3  0.028181 0.000749 37.639827  \n",
       "4  0.021064 0.001399 15.059932  \n",
       "5  0.018570 0.001018 18.236178  \n",
       "6  0.038591 0.002527 15.272446  \n",
       "7  0.029345 0.002400 12.228536  \n",
       "8  0.049041 0.001846 26.570932  \n",
       "9  0.027342 0.002375 11.510612  \n",
       "10 0.015688 0.002761  5.681464  \n",
       "11 0.035548 0.001306 27.227305  \n",
       "12 0.042956 0.001357 31.660690  \n",
       "13 0.027469 0.001329 20.671064  \n",
       "14 0.076680 0.020224  3.791523  \n",
       "15 0.014290 0.000714 20.011484  \n",
       "16 0.010293 0.001537  6.697133  \n",
       "17 0.003597 0.000164 22.000000  "
      ]
     },
     "execution_count": 28,
     "metadata": {},
     "output_type": "execute_result"
    }
   ],
   "source": [
    "\n",
    "category_df = all_df.groupby('category_id', as_index=False).sum()\n",
    "\n",
    "\n",
    "list_of_views = list()\n",
    "list_of_likes = list()\n",
    "list_of_dislikes = list()\n",
    "\n",
    "\n",
    "for c in range(len(categories)):\n",
    "    x = (category_df[category_df['category_id'] == categories[c]]).views.values\n",
    "    y = (category_df[category_df['category_id'] == categories[c]]).likes\n",
    "    z = (category_df[category_df['category_id'] == categories[c]]).dislikes\n",
    "    \n",
    "    list_of_views.append(int(x))\n",
    "    list_of_likes.append(int(y))\n",
    "    list_of_dislikes.append(int(z))\n",
    "    \n",
    "\n",
    "ratio_categories_df = pd.DataFrame({'category_id':categories, 'views': list_of_views, 'likes': list_of_likes, 'dislikes': list_of_dislikes})\n",
    "\n",
    "ratio_categories_df['L2V'] = ratio_categories_df['likes']/ratio_categories_df['views']\n",
    "ratio_categories_df['D2V'] = ratio_categories_df['dislikes']/ratio_categories_df['views']\n",
    "ratio_categories_df['L2D'] = ratio_categories_df['likes']/ratio_categories_df['dislikes']\n",
    "\n",
    "\n",
    "ratio_categories_df = ratio_categories_df.sort_values(by='category_id') \n",
    "ratio_categories_df.insert(1,'category_name', categories_names) \n",
    "\n",
    "ratio_categories_df\n",
    "    \n",
    "    \n"
   ]
  },
  {
   "cell_type": "markdown",
   "id": "e2409d8a",
   "metadata": {
    "papermill": {
     "duration": 0.021346,
     "end_time": "2022-08-16T17:23:41.364318",
     "exception": false,
     "start_time": "2022-08-16T17:23:41.342972",
     "status": "completed"
    },
    "tags": []
   },
   "source": [
    "**Now we can visualize statystics for categories**"
   ]
  },
  {
   "cell_type": "code",
   "execution_count": 29,
   "id": "88a7cb64",
   "metadata": {
    "execution": {
     "iopub.execute_input": "2022-08-16T17:23:41.408937Z",
     "iopub.status.busy": "2022-08-16T17:23:41.408201Z",
     "iopub.status.idle": "2022-08-16T17:23:42.201111Z",
     "shell.execute_reply": "2022-08-16T17:23:42.200077Z"
    },
    "papermill": {
     "duration": 0.817661,
     "end_time": "2022-08-16T17:23:42.203521",
     "exception": false,
     "start_time": "2022-08-16T17:23:41.385860",
     "status": "completed"
    },
    "tags": []
   },
   "outputs": [
    {
     "data": {
      "image/png": "[encoded data removed]",
      "text/plain": [
       "<Figure size 1080x720 with 4 Axes>"
      ]
     },
     "metadata": {
      "needs_background": "light"
     },
     "output_type": "display_data"
    }
   ],
   "source": [
    "fig, axs = plt.subplots(2, 2, figsize=(15,10))\n",
    "\n",
    "\n",
    "\n",
    "axs[0,0].plot(ratio_categories_df['category_name'], ratio_categories_df['likes'], 'tab:orange')\n",
    "axs[0,0].set(xlabel = 'Category',ylabel = 'Likes', title='Likes')\n",
    "axs[0,0].tick_params(axis='x', rotation=90)\n",
    "\n",
    "axs[0,1].plot(ratio_categories_df['category_name'], ratio_categories_df['L2V'])\n",
    "axs[0,1].set(xlabel = 'Category',ylabel = 'L2V', title = 'L2V')\n",
    "axs[0,1].tick_params(axis='x', rotation=90)\n",
    "\n",
    "axs[1,0].plot(ratio_categories_df['category_name'], ratio_categories_df['D2V'], 'tab:green')\n",
    "axs[1,0].set(xlabel = 'Category',ylabel = 'D2V', title = 'D2V')\n",
    "axs[1,0].tick_params(axis='x', rotation=90)\n",
    "\n",
    "axs[1,1].plot(ratio_categories_df['category_name'], ratio_categories_df['L2D'], 'tab:red')\n",
    "axs[1,1].set(xlabel = 'Category',ylabel = 'L2D', title = 'L2D')\n",
    "axs[1,1].tick_params(axis='x', rotation=90)"
   ]
  },
  {
   "cell_type": "markdown",
   "id": "566ab287",
   "metadata": {
    "papermill": {
     "duration": 0.023323,
     "end_time": "2022-08-16T17:23:42.249540",
     "exception": false,
     "start_time": "2022-08-16T17:23:42.226217",
     "status": "completed"
    },
    "tags": []
   },
   "source": [
    "**Let's examine in which category is the easiest to get views** "
   ]
  },
  {
   "cell_type": "code",
   "execution_count": 30,
   "id": "65b012aa",
   "metadata": {
    "execution": {
     "iopub.execute_input": "2022-08-16T17:23:42.297506Z",
     "iopub.status.busy": "2022-08-16T17:23:42.297112Z",
     "iopub.status.idle": "2022-08-16T17:23:42.602073Z",
     "shell.execute_reply": "2022-08-16T17:23:42.600979Z"
    },
    "papermill": {
     "duration": 0.331495,
     "end_time": "2022-08-16T17:23:42.604510",
     "exception": false,
     "start_time": "2022-08-16T17:23:42.273015",
     "status": "completed"
    },
    "tags": []
   },
   "outputs": [
    {
     "data": {
      "text/plain": [
       "Text(0.5, 1.0, 'Views by Categories')"
      ]
     },
     "execution_count": 30,
     "metadata": {},
     "output_type": "execute_result"
    },
    {
     "data": {
      "image/png": "[encoded data removed]",
      "text/plain": [
       "<Figure size 1080x720 with 1 Axes>"
      ]
     },
     "metadata": {
      "needs_background": "light"
     },
     "output_type": "display_data"
    }
   ],
   "source": [
    "plt.figure(figsize = (15,10))\n",
    "plt.xticks(rotation='vertical')\n",
    "plt.bar(ratio_categories_df['category_name'], ratio_categories_df['views'], color=['black', 'red', 'green', 'blue','orange', 'cyan', 'yellow', 'plum'])\n",
    "plt.ylabel('Views', fontsize=14)\n",
    "plt.xlabel('Category Name', fontsize =14)\n",
    "plt.title(\"Views by Categories\", fontsize=16)"
   ]
  },
  {
   "cell_type": "markdown",
   "id": "110c8ff0",
   "metadata": {
    "papermill": {
     "duration": 0.023166,
     "end_time": "2022-08-16T17:23:42.651667",
     "exception": false,
     "start_time": "2022-08-16T17:23:42.628501",
     "status": "completed"
    },
    "tags": []
   },
   "source": [
    "**As shown on the chart, the music category surpases everything else but for task completion we will examine how does the music category compare to politics.**"
   ]
  },
  {
   "cell_type": "code",
   "execution_count": 31,
   "id": "f6e49126",
   "metadata": {
    "execution": {
     "iopub.execute_input": "2022-08-16T17:23:42.700975Z",
     "iopub.status.busy": "2022-08-16T17:23:42.700557Z",
     "iopub.status.idle": "2022-08-16T17:23:42.710497Z",
     "shell.execute_reply": "2022-08-16T17:23:42.709381Z"
    },
    "papermill": {
     "duration": 0.038507,
     "end_time": "2022-08-16T17:23:42.713952",
     "exception": false,
     "start_time": "2022-08-16T17:23:42.675445",
     "status": "completed"
    },
    "tags": []
   },
   "outputs": [
    {
     "name": "stdout",
     "output_type": "stream",
     "text": [
      "Cumulative views in Music category : 255967088943\n",
      "\n",
      "Cumulative views in Politics category: 10422502991\n",
      "\n",
      "Its easier to get views in Music, than in Politics \n"
     ]
    }
   ],
   "source": [
    "#Check if it is easier to collect likes for musicians than for politicians ? \n",
    "#To do that we have to detect all music channels and all political channels\n",
    "\n",
    "music = int(ratio_categories_df[ratio_categories_df['category_name'] == 'Music']['views'].values)\n",
    "\n",
    "politics = int(ratio_categories_df[ratio_categories_df['category_name'] == 'News & Politics']['views'].values)\n",
    "\n",
    "\n",
    "print(f'Cumulative views in Music category : {music}')\n",
    "\n",
    "print(\"\")\n",
    "\n",
    "print(f'Cumulative views in Politics category: {politics}')\n",
    "print(\"\")\n",
    "\n",
    "if music > politics:\n",
    "    print(f'Its easier to get views in Music, than in Politics ')\n",
    "else:\n",
    "    print(f'Its easier to get views in Politics, than in Music')\n"
   ]
  },
  {
   "cell_type": "markdown",
   "id": "d34d44e6",
   "metadata": {
    "papermill": {
     "duration": 0.022762,
     "end_time": "2022-08-16T17:23:42.760876",
     "exception": false,
     "start_time": "2022-08-16T17:23:42.738114",
     "status": "completed"
    },
    "tags": []
   },
   "source": [
    " **Musicians obtained 255967088943** views and **politicians 10422502991**. \n",
    "Based on that data we can conclude, that it is significantly harder for politicians to obtain views in comparison to musicians. **About 24,5 times more difficult to be exact**."
   ]
  },
  {
   "cell_type": "markdown",
   "id": "4773f999",
   "metadata": {
    "papermill": {
     "duration": 0.02351,
     "end_time": "2022-08-16T17:23:42.808787",
     "exception": false,
     "start_time": "2022-08-16T17:23:42.785277",
     "status": "completed"
    },
    "tags": []
   },
   "source": [
    "# Running task nr 3"
   ]
  },
  {
   "cell_type": "markdown",
   "id": "0c3976e3",
   "metadata": {
    "papermill": {
     "duration": 0.022501,
     "end_time": "2022-08-16T17:23:42.855228",
     "exception": false,
     "start_time": "2022-08-16T17:23:42.832727",
     "status": "completed"
    },
    "tags": []
   },
   "source": [
    "**Select channels that are popular in most countries.**\n",
    "> There is essentialy couple of ways we can approach this problem. One of them is to find top channels from a given contry and check if any of those channels are also popular in other countries. The other method is to set some benchmark (cumulative views for the channel), that will help to estimate if a channel is popular or not. Both approaches have theirs pros and cons as the first one lets us find channels that recive their views from truly international audience but cannot gurantee that the channel will apear in majority of examined countries so the research might not be worth the effort. Second method however doesn't specify the country from which the views are comeing from so we can only guess that the channel is internationally popular bcause of its amount outstanding amount of views. We will therefore combine both approaches for the best result"
   ]
  },
  {
   "cell_type": "code",
   "execution_count": 32,
   "id": "9b6e7801",
   "metadata": {
    "execution": {
     "iopub.execute_input": "2022-08-16T17:23:42.903165Z",
     "iopub.status.busy": "2022-08-16T17:23:42.902438Z",
     "iopub.status.idle": "2022-08-16T17:23:43.034592Z",
     "shell.execute_reply": "2022-08-16T17:23:43.033781Z"
    },
    "papermill": {
     "duration": 0.158617,
     "end_time": "2022-08-16T17:23:43.036582",
     "exception": false,
     "start_time": "2022-08-16T17:23:42.877965",
     "status": "completed"
    },
    "tags": []
   },
   "outputs": [
    {
     "data": {
      "text/html": [
       "<div>\n",
       "<style scoped>\n",
       "    .dataframe tbody tr th:only-of-type {\n",
       "        vertical-align: middle;\n",
       "    }\n",
       "\n",
       "    .dataframe tbody tr th {\n",
       "        vertical-align: top;\n",
       "    }\n",
       "\n",
       "    .dataframe thead th {\n",
       "        text-align: right;\n",
       "    }\n",
       "</style>\n",
       "<table border=\"1\" class=\"dataframe\">\n",
       "  <thead>\n",
       "    <tr style=\"text-align: right;\">\n",
       "      <th></th>\n",
       "      <th>country</th>\n",
       "      <th>category_id</th>\n",
       "      <th>views</th>\n",
       "      <th>likes</th>\n",
       "      <th>dislikes</th>\n",
       "      <th>comment_count</th>\n",
       "      <th>comments_disabled</th>\n",
       "      <th>ratings_disabled</th>\n",
       "      <th>video_error_or_removed</th>\n",
       "    </tr>\n",
       "  </thead>\n",
       "  <tbody>\n",
       "    <tr>\n",
       "      <th>0</th>\n",
       "      <td>CA</td>\n",
       "      <td>850143</td>\n",
       "      <td>46891975069</td>\n",
       "      <td>1618179878</td>\n",
       "      <td>82137919</td>\n",
       "      <td>206161849</td>\n",
       "      <td>583</td>\n",
       "      <td>279</td>\n",
       "      <td>27</td>\n",
       "    </tr>\n",
       "    <tr>\n",
       "      <th>1</th>\n",
       "      <td>DE</td>\n",
       "      <td>845626</td>\n",
       "      <td>24645115205</td>\n",
       "      <td>893395538</td>\n",
       "      <td>57059031</td>\n",
       "      <td>113774380</td>\n",
       "      <td>1044</td>\n",
       "      <td>672</td>\n",
       "      <td>14</td>\n",
       "    </tr>\n",
       "    <tr>\n",
       "      <th>2</th>\n",
       "      <td>FR</td>\n",
       "      <td>819522</td>\n",
       "      <td>17100897444</td>\n",
       "      <td>708144090</td>\n",
       "      <td>33188528</td>\n",
       "      <td>74624804</td>\n",
       "      <td>889</td>\n",
       "      <td>704</td>\n",
       "      <td>22</td>\n",
       "    </tr>\n",
       "    <tr>\n",
       "      <th>3</th>\n",
       "      <td>GB</td>\n",
       "      <td>654876</td>\n",
       "      <td>230069198174</td>\n",
       "      <td>5234962944</td>\n",
       "      <td>296250384</td>\n",
       "      <td>509346351</td>\n",
       "      <td>683</td>\n",
       "      <td>272</td>\n",
       "      <td>69</td>\n",
       "    </tr>\n",
       "    <tr>\n",
       "      <th>4</th>\n",
       "      <td>IN</td>\n",
       "      <td>805929</td>\n",
       "      <td>39610961029</td>\n",
       "      <td>1011593670</td>\n",
       "      <td>62194142</td>\n",
       "      <td>99991208</td>\n",
       "      <td>1204</td>\n",
       "      <td>781</td>\n",
       "      <td>11</td>\n",
       "    </tr>\n",
       "  </tbody>\n",
       "</table>\n",
       "</div>"
      ],
      "text/plain": [
       "  country  category_id         views       likes   dislikes  comment_count  \\\n",
       "0      CA       850143   46891975069  1618179878   82137919      206161849   \n",
       "1      DE       845626   24645115205   893395538   57059031      113774380   \n",
       "2      FR       819522   17100897444   708144090   33188528       74624804   \n",
       "3      GB       654876  230069198174  5234962944  296250384      509346351   \n",
       "4      IN       805929   39610961029  1011593670   62194142       99991208   \n",
       "\n",
       "   comments_disabled  ratings_disabled  video_error_or_removed  \n",
       "0                583               279                      27  \n",
       "1               1044               672                      14  \n",
       "2                889               704                      22  \n",
       "3                683               272                      69  \n",
       "4               1204               781                      11  "
      ]
     },
     "execution_count": 32,
     "metadata": {},
     "output_type": "execute_result"
    }
   ],
   "source": [
    "#Ratios agin\n",
    "\n",
    "gcountry_df = all_df.groupby('country', as_index=False).sum()\n",
    "gcountry_df.head()\n"
   ]
  },
  {
   "cell_type": "code",
   "execution_count": 33,
   "id": "4bbbd84e",
   "metadata": {
    "execution": {
     "iopub.execute_input": "2022-08-16T17:23:43.087500Z",
     "iopub.status.busy": "2022-08-16T17:23:43.086498Z",
     "iopub.status.idle": "2022-08-16T17:23:43.140486Z",
     "shell.execute_reply": "2022-08-16T17:23:43.139346Z"
    },
    "papermill": {
     "duration": 0.081056,
     "end_time": "2022-08-16T17:23:43.142564",
     "exception": false,
     "start_time": "2022-08-16T17:23:43.061508",
     "status": "completed"
    },
    "tags": []
   },
   "outputs": [
    {
     "data": {
      "text/plain": [
       "The Late Show with Stephen Colbert        984\n",
       "WWE                                       804\n",
       "Late Night with Seth Meyers               773\n",
       "VikatanTV                                 763\n",
       "TheEllenShow                              743\n",
       "Jimmy Kimmel Live                         707\n",
       "The Tonight Show Starring Jimmy Fallon    705\n",
       "PewDiePie                                 652\n",
       "RadaanMedia                               651\n",
       "The Late Late Show with James Corden      583\n",
       "Name: channel_title, dtype: int64"
      ]
     },
     "execution_count": 33,
     "metadata": {},
     "output_type": "execute_result"
    }
   ],
   "source": [
    "#Find channels with most uploads (One row in our dataframe is one video)\n",
    "\n",
    "top_uploaders = all_df['channel_title'].value_counts()\n",
    "top_uploaders.head(10)"
   ]
  },
  {
   "cell_type": "markdown",
   "id": "7c92a99c",
   "metadata": {
    "papermill": {
     "duration": 0.023799,
     "end_time": "2022-08-16T17:23:43.190686",
     "exception": false,
     "start_time": "2022-08-16T17:23:43.166887",
     "status": "completed"
    },
    "tags": []
   },
   "source": [
    "We will try to find our benchmark by using percentiles. 90th percentile is a good estimate as it will separate 10% of most popular videos from the rest."
   ]
  },
  {
   "cell_type": "code",
   "execution_count": 34,
   "id": "ff69e4ef",
   "metadata": {
    "execution": {
     "iopub.execute_input": "2022-08-16T17:23:43.240529Z",
     "iopub.status.busy": "2022-08-16T17:23:43.240139Z",
     "iopub.status.idle": "2022-08-16T17:23:43.496873Z",
     "shell.execute_reply": "2022-08-16T17:23:43.496103Z"
    },
    "papermill": {
     "duration": 0.283892,
     "end_time": "2022-08-16T17:23:43.498718",
     "exception": false,
     "start_time": "2022-08-16T17:23:43.214826",
     "status": "completed"
    },
    "tags": []
   },
   "outputs": [
    {
     "data": {
      "text/plain": [
       "2093287.0"
      ]
     },
     "execution_count": 34,
     "metadata": {},
     "output_type": "execute_result"
    }
   ],
   "source": [
    "df = all_df.sort_values(by='views', ascending=True)\n",
    "df['views'].quantile(0.90)"
   ]
  },
  {
   "cell_type": "markdown",
   "id": "656b633e",
   "metadata": {
    "papermill": {
     "duration": 0.023586,
     "end_time": "2022-08-16T17:23:43.546263",
     "exception": false,
     "start_time": "2022-08-16T17:23:43.522677",
     "status": "completed"
    },
    "tags": []
   },
   "source": [
    "We can see that the 90th percentile is around 2million, therefore that is gonna be our benchmark for entry"
   ]
  },
  {
   "cell_type": "code",
   "execution_count": 35,
   "id": "580ac42d",
   "metadata": {
    "execution": {
     "iopub.execute_input": "2022-08-16T17:23:43.597444Z",
     "iopub.status.busy": "2022-08-16T17:23:43.596728Z",
     "iopub.status.idle": "2022-08-16T17:23:44.213688Z",
     "shell.execute_reply": "2022-08-16T17:23:44.212654Z"
    },
    "papermill": {
     "duration": 0.64542,
     "end_time": "2022-08-16T17:23:44.216366",
     "exception": false,
     "start_time": "2022-08-16T17:23:43.570946",
     "status": "completed"
    },
    "tags": []
   },
   "outputs": [],
   "source": [
    "\n",
    "\n",
    "df = all_df.sort_values(by='views', ascending=True)\n",
    "\n",
    "gruped = df.groupby(['country','channel_title'], as_index=False).sum()\n",
    "gruped.drop(['comment_count','comments_disabled','ratings_disabled','video_error_or_removed'], axis=1, inplace=True)\n",
    "\n",
    "\n",
    "\n",
    "list_of_df = []\n",
    "\n",
    "# The following function will help us find channels from a given country with a specific condition\n",
    "\n",
    "def FindPopular():\n",
    "    for c in countries:\n",
    "        #This conditions specifies that the channel must at least ten million views to be considered popular\n",
    "        condition = gruped['views'] >= 20000000\n",
    "        c = gruped[(gruped['country'] == f'{c}') & (condition)]\n",
    "        df = pd.DataFrame(c).sort_values(by='views', ascending= False).head(100)\n",
    "        list_of_df.append(df)\n",
    "\n",
    "FindPopular()    \n"
   ]
  },
  {
   "cell_type": "markdown",
   "id": "62d964d1",
   "metadata": {
    "papermill": {
     "duration": 0.02404,
     "end_time": "2022-08-16T17:23:44.264798",
     "exception": false,
     "start_time": "2022-08-16T17:23:44.240758",
     "status": "completed"
    },
    "tags": []
   },
   "source": [
    "Now, when we have a list of dataframes with top 10% of channels by views from every country, we can create one big dataframe out of them and find which channels are occurning the most in it. Therefore we will find countries that are popular in m"
   ]
  },
  {
   "cell_type": "code",
   "execution_count": 36,
   "id": "a2780bbc",
   "metadata": {
    "execution": {
     "iopub.execute_input": "2022-08-16T17:23:44.314320Z",
     "iopub.status.busy": "2022-08-16T17:23:44.313936Z",
     "iopub.status.idle": "2022-08-16T17:23:44.325483Z",
     "shell.execute_reply": "2022-08-16T17:23:44.324515Z"
    },
    "papermill": {
     "duration": 0.038654,
     "end_time": "2022-08-16T17:23:44.327566",
     "exception": false,
     "start_time": "2022-08-16T17:23:44.288912",
     "status": "completed"
    },
    "tags": []
   },
   "outputs": [
    {
     "data": {
      "text/plain": [
       "TaylorSwiftVEVO                       10\n",
       "20th Century Fox                      10\n",
       "Marvel Entertainment                  10\n",
       "Sony Pictures Entertainment           10\n",
       "ibighit                                9\n",
       "Universal Pictures                     9\n",
       "Maroon5VEVO                            9\n",
       "YouTube Spotlight                      9\n",
       "Dude Perfect                           9\n",
       "Warner Bros. Pictures                  9\n",
       "ChildishGambinoVEVO                    9\n",
       "SpaceX                                 9\n",
       "Clash Royale                           8\n",
       "Kylie Jenner                           8\n",
       "Ed Sheeran                             8\n",
       "Paramount Pictures                     8\n",
       "ArianaGrandeVevo                       8\n",
       "PewDiePie                              8\n",
       "DrakeVEVO                              8\n",
       "MLG Highlights                         7\n",
       "justintimberlakeVEVO                   7\n",
       "AsapSCIENCE                            7\n",
       "Disneyâ¢Pixar                         7\n",
       "EminemVEVO                             7\n",
       "SMTOWN                                 7\n",
       "WWE                                    7\n",
       "jypentertainment                       7\n",
       "BuzzFeedVideo                          7\n",
       "5-Minute Crafts                        6\n",
       "The Late Show with Stephen Colbert     6\n",
       "Name: channel_title, dtype: int64"
      ]
     },
     "execution_count": 36,
     "metadata": {},
     "output_type": "execute_result"
    }
   ],
   "source": [
    "#Lets find 30 most viewed channels in  multiple countries\n",
    "concat_df = pd.concat(list_of_df)\n",
    "most_viewed = concat_df['channel_title'].value_counts()\n",
    "most_viewed.head(30)\n",
    "    \n",
    "    "
   ]
  },
  {
   "cell_type": "markdown",
   "id": "7b0880e6",
   "metadata": {
    "papermill": {
     "duration": 0.024082,
     "end_time": "2022-08-16T17:23:44.376014",
     "exception": false,
     "start_time": "2022-08-16T17:23:44.351932",
     "status": "completed"
    },
    "tags": []
   },
   "source": [
    "**Now we can visualize those channel names in a form of word cloud**"
   ]
  },
  {
   "cell_type": "code",
   "execution_count": 37,
   "id": "e7a701c5",
   "metadata": {
    "execution": {
     "iopub.execute_input": "2022-08-16T17:23:44.426109Z",
     "iopub.status.busy": "2022-08-16T17:23:44.425526Z",
     "iopub.status.idle": "2022-08-16T17:23:44.432722Z",
     "shell.execute_reply": "2022-08-16T17:23:44.431817Z"
    },
    "papermill": {
     "duration": 0.034602,
     "end_time": "2022-08-16T17:23:44.434778",
     "exception": false,
     "start_time": "2022-08-16T17:23:44.400176",
     "status": "completed"
    },
    "tags": []
   },
   "outputs": [
    {
     "data": {
      "text/plain": [
       "['TaylorSwiftVEVO',\n",
       " '20th Century Fox',\n",
       " 'Marvel Entertainment',\n",
       " 'Sony Pictures Entertainment',\n",
       " 'ibighit',\n",
       " 'Universal Pictures',\n",
       " 'Maroon5VEVO',\n",
       " 'YouTube Spotlight',\n",
       " 'Dude Perfect',\n",
       " 'Warner Bros. Pictures',\n",
       " 'ChildishGambinoVEVO',\n",
       " 'SpaceX',\n",
       " 'Clash Royale',\n",
       " 'Kylie Jenner',\n",
       " 'Ed Sheeran',\n",
       " 'Paramount Pictures',\n",
       " 'ArianaGrandeVevo',\n",
       " 'PewDiePie',\n",
       " 'DrakeVEVO',\n",
       " 'MLG Highlights',\n",
       " 'justintimberlakeVEVO',\n",
       " 'AsapSCIENCE',\n",
       " 'Disneyâ\\x80¢Pixar',\n",
       " 'EminemVEVO',\n",
       " 'SMTOWN',\n",
       " 'WWE',\n",
       " 'jypentertainment',\n",
       " 'BuzzFeedVideo',\n",
       " '5-Minute Crafts',\n",
       " 'The Late Show with Stephen Colbert']"
      ]
     },
     "execution_count": 37,
     "metadata": {},
     "output_type": "execute_result"
    }
   ],
   "source": [
    "to_word_cloud = most_viewed.head(30).index.to_list()\n",
    "to_word_cloud"
   ]
  },
  {
   "cell_type": "code",
   "execution_count": 38,
   "id": "d294a98c",
   "metadata": {
    "execution": {
     "iopub.execute_input": "2022-08-16T17:23:44.485936Z",
     "iopub.status.busy": "2022-08-16T17:23:44.485354Z",
     "iopub.status.idle": "2022-08-16T17:23:45.230276Z",
     "shell.execute_reply": "2022-08-16T17:23:45.229527Z"
    },
    "papermill": {
     "duration": 0.775226,
     "end_time": "2022-08-16T17:23:45.234733",
     "exception": false,
     "start_time": "2022-08-16T17:23:44.459507",
     "status": "completed"
    },
    "tags": []
   },
   "outputs": [
    {
     "data": {
      "image/png": "[encoded data removed]",
      "text/plain": [
       "<Figure size 1080x576 with 1 Axes>"
      ]
     },
     "metadata": {
      "needs_background": "light"
     },
     "output_type": "display_data"
    }
   ],
   "source": [
    "#convert it to dictionary with values and its occurences\n",
    "from wordcloud import WordCloud\n",
    "from collections import Counter\n",
    "\n",
    "\n",
    "\n",
    "\n",
    "word_could_dict=Counter(to_word_cloud)\n",
    "wordcloud = WordCloud(width = 1200, height = 500, background_color='white').generate_from_frequencies(word_could_dict)\n",
    "\n",
    "\n",
    "plt.figure(figsize=(15,8))\n",
    "plt.imshow(wordcloud)\n",
    "plt.axis(\"off\")\n",
    "plt.show()\n",
    "\n"
   ]
  }
 ],
 "metadata": {
  "kernelspec": {
   "display_name": "Python 3",
   "language": "python",
   "name": "python3"
  },
  "language_info": {
   "codemirror_mode": {
    "name": "ipython",
    "version": 3
   },
   "file_extension": ".py",
   "mimetype": "text/x-python",
   "name": "python",
   "nbconvert_exporter": "python",
   "pygments_lexer": "ipython3",
   "version": "3.7.12"
  },
  "papermill": {
   "default_parameters": {},
   "duration": 161.378829,
   "end_time": "2022-08-16T17:23:47.986140",
   "environment_variables": {},
   "exception": null,
   "input_path": "__notebook__.ipynb",
   "output_path": "__notebook__.ipynb",
   "parameters": {},
   "start_time": "2022-08-16T17:21:06.607311",
   "version": "2.3.4"
  }
 },
 "nbformat": 4,
 "nbformat_minor": 5
}
